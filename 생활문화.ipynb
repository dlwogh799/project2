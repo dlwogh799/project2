{
 "cells": [
  {
   "cell_type": "code",
   "execution_count": 1,
   "id": "01bd0d93",
   "metadata": {},
   "outputs": [],
   "source": [
    "from bs4 import BeautifulSoup\n",
    "import requests\n",
    "import re\n",
    "import pandas as pd\n",
    "import numpy as np\n",
    "import konlpy"
   ]
  },
  {
   "cell_type": "code",
   "execution_count": 2,
   "id": "24ad7237",
   "metadata": {},
   "outputs": [],
   "source": [
    "import requests\n",
    "import pandas as pd\n",
    "import urllib.request as req\n",
    "from bs4 import BeautifulSoup"
   ]
  },
  {
   "cell_type": "code",
   "execution_count": 3,
   "id": "a50b3e1a",
   "metadata": {},
   "outputs": [
    {
     "data": {
      "text/html": [
       "<div>\n",
       "<style scoped>\n",
       "    .dataframe tbody tr th:only-of-type {\n",
       "        vertical-align: middle;\n",
       "    }\n",
       "\n",
       "    .dataframe tbody tr th {\n",
       "        vertical-align: top;\n",
       "    }\n",
       "\n",
       "    .dataframe thead th {\n",
       "        text-align: right;\n",
       "    }\n",
       "</style>\n",
       "<table border=\"1\" class=\"dataframe\">\n",
       "  <thead>\n",
       "    <tr style=\"text-align: right;\">\n",
       "      <th></th>\n",
       "      <th>news_text</th>\n",
       "      <th>category</th>\n",
       "    </tr>\n",
       "  </thead>\n",
       "  <tbody>\n",
       "  </tbody>\n",
       "</table>\n",
       "</div>"
      ],
      "text/plain": [
       "Empty DataFrame\n",
       "Columns: [news_text, category]\n",
       "Index: []"
      ]
     },
     "execution_count": 3,
     "metadata": {},
     "output_type": "execute_result"
    }
   ],
   "source": [
    "news_df = pd.DataFrame(columns = ['news_text','category'])\n",
    "news_df"
   ]
  },
  {
   "cell_type": "code",
   "execution_count": 4,
   "id": "072b1da4",
   "metadata": {},
   "outputs": [
    {
     "data": {
      "text/html": [
       "<div>\n",
       "<style scoped>\n",
       "    .dataframe tbody tr th:only-of-type {\n",
       "        vertical-align: middle;\n",
       "    }\n",
       "\n",
       "    .dataframe tbody tr th {\n",
       "        vertical-align: top;\n",
       "    }\n",
       "\n",
       "    .dataframe thead th {\n",
       "        text-align: right;\n",
       "    }\n",
       "</style>\n",
       "<table border=\"1\" class=\"dataframe\">\n",
       "  <thead>\n",
       "    <tr style=\"text-align: right;\">\n",
       "      <th></th>\n",
       "      <th>news_text</th>\n",
       "      <th>category</th>\n",
       "    </tr>\n",
       "  </thead>\n",
       "  <tbody>\n",
       "    <tr>\n",
       "      <th>0</th>\n",
       "      <td>10대 제약사에 ALT-B4 공급[서울경제] 알테오젠(196170)은 자사가 개발한...</td>\n",
       "      <td>241</td>\n",
       "    </tr>\n",
       "    <tr>\n",
       "      <th>1</th>\n",
       "      <td>2020년 6월부터 내부신고 가능하도록 익명신고 도입강원도 원주에 위치한 국민건강보...</td>\n",
       "      <td>241</td>\n",
       "    </tr>\n",
       "    <tr>\n",
       "      <th>2</th>\n",
       "      <td>완벽주의자는 본인의 결점만 탓하다 부정적 감정에 파묻혀 자해를 할 위험성이 높은 것...</td>\n",
       "      <td>241</td>\n",
       "    </tr>\n",
       "    <tr>\n",
       "      <th>3</th>\n",
       "      <td>강북삼성병원, 성인 1만4000여명 체중변화-지방간 위험 분석“체중 5% 감소 시 ...</td>\n",
       "      <td>241</td>\n",
       "    </tr>\n",
       "    <tr>\n",
       "      <th>4</th>\n",
       "      <td>유튜브에서 수막구균 백과사전·동요동화, 인스타그램에선 육아웹툰 공개GSK는 세계예방...</td>\n",
       "      <td>241</td>\n",
       "    </tr>\n",
       "    <tr>\n",
       "      <th>...</th>\n",
       "      <td>...</td>\n",
       "      <td>...</td>\n",
       "    </tr>\n",
       "    <tr>\n",
       "      <th>2240</th>\n",
       "      <td>△선화랑서 80번째 개인전 연 작가 김명식고덕동 옛 고향정경 회상한 '고데기'서뉴욕...</td>\n",
       "      <td>242</td>\n",
       "    </tr>\n",
       "    <tr>\n",
       "      <th>2241</th>\n",
       "      <td>연주회 '시인의 사랑' 포스터© 뉴스1(서울=뉴스1) 박정환 문화전문기자 = 테너 ...</td>\n",
       "      <td>242</td>\n",
       "    </tr>\n",
       "    <tr>\n",
       "      <th>2242</th>\n",
       "      <td>기사내용 요약공연, 2020년 동기 비해 10배영화 매출액은 4배 늘어 \"숨통 트여...</td>\n",
       "      <td>242</td>\n",
       "    </tr>\n",
       "    <tr>\n",
       "      <th>2243</th>\n",
       "      <td>한국연예제작자협회가 매년 주최하는 대형 K팝 이벤트인 ‘드림콘서트’가 오는 6...</td>\n",
       "      <td>242</td>\n",
       "    </tr>\n",
       "    <tr>\n",
       "      <th>2244</th>\n",
       "      <td>강원연구원·한국여성수련원 등오백나한·양구백자 방문객 맞이▲ 강원연구원 오백나한 전시...</td>\n",
       "      <td>242</td>\n",
       "    </tr>\n",
       "  </tbody>\n",
       "</table>\n",
       "<p>2245 rows × 2 columns</p>\n",
       "</div>"
      ],
      "text/plain": [
       "                                              news_text  category\n",
       "0     10대 제약사에 ALT-B4 공급[서울경제] 알테오젠(196170)은 자사가 개발한...       241\n",
       "1     2020년 6월부터 내부신고 가능하도록 익명신고 도입강원도 원주에 위치한 국민건강보...       241\n",
       "2     완벽주의자는 본인의 결점만 탓하다 부정적 감정에 파묻혀 자해를 할 위험성이 높은 것...       241\n",
       "3     강북삼성병원, 성인 1만4000여명 체중변화-지방간 위험 분석“체중 5% 감소 시 ...       241\n",
       "4     유튜브에서 수막구균 백과사전·동요동화, 인스타그램에선 육아웹툰 공개GSK는 세계예방...       241\n",
       "...                                                 ...       ...\n",
       "2240  △선화랑서 80번째 개인전 연 작가 김명식고덕동 옛 고향정경 회상한 '고데기'서뉴욕...       242\n",
       "2241  연주회 '시인의 사랑' 포스터© 뉴스1(서울=뉴스1) 박정환 문화전문기자 = 테너 ...       242\n",
       "2242  기사내용 요약공연, 2020년 동기 비해 10배영화 매출액은 4배 늘어 \"숨통 트여...       242\n",
       "2243     한국연예제작자협회가 매년 주최하는 대형 K팝 이벤트인 ‘드림콘서트’가 오는 6...       242\n",
       "2244  강원연구원·한국여성수련원 등오백나한·양구백자 방문객 맞이▲ 강원연구원 오백나한 전시...       242\n",
       "\n",
       "[2245 rows x 2 columns]"
      ]
     },
     "execution_count": 4,
     "metadata": {},
     "output_type": "execute_result"
    }
   ],
   "source": [
    "cats=[241,237,240,376,242]\n",
    "ind = 0\n",
    "for cat in cats:   \n",
    "    for i in range(30):\n",
    "        \n",
    "        url = 'https://news.naver.com/main/list.naver?mode=LS2D&sid2='+str(cat)+'&sid1=103&mid=shm&date=20220426&page='+str(i+1)\n",
    "        headers = {'User-Agent': 'Mozilla/5.0 (Windows NT 10.0; Win64; x64) AppleWebKit/537.36 (KHTML, like Gecko) Chrome/100.0.4896.127 Safari/537.36'}\n",
    "        news = requests.get(url, headers=headers)\n",
    "        soup = BeautifulSoup(news.text,'html.parser')\n",
    "        links = soup.select(' #main_content > div > ul> li > dl > dt > a')\n",
    "        newslinks=[]\n",
    "        for j, a in enumerate(links):            \n",
    "            newslink = a.get('href')\n",
    "            newslinks.append(newslink)\n",
    "            newslinks = list(set(newslinks))        \n",
    "        \n",
    "        for link in newslinks:\n",
    "            try:\n",
    "                res2 = requests.get(link,headers = headers).text\n",
    "                soup2 = BeautifulSoup(res2,'html.parser')\n",
    "                news = soup2.find('div',id = \"dic_area\").text\n",
    "                news = re.sub('\\n','',news)\n",
    "                news = re.sub('\\t','',news)\n",
    "                news_df.loc[ind] = [news,cat]\n",
    "                ind += 1\n",
    "            except Exception as e:\n",
    "                pass\n",
    "news_df"
   ]
  },
  {
   "cell_type": "code",
   "execution_count": 5,
   "id": "2d365c06",
   "metadata": {},
   "outputs": [],
   "source": [
    "news_df.to_csv('news_dfc.csv',mode='w')"
   ]
  },
  {
   "cell_type": "code",
   "execution_count": 8,
   "id": "14afcb72",
   "metadata": {},
   "outputs": [
    {
     "data": {
      "text/plain": [
       "(2245, 2)"
      ]
     },
     "execution_count": 8,
     "metadata": {},
     "output_type": "execute_result"
    }
   ],
   "source": [
    "f_df3 = pd.read_csv('news_dfc.csv',index_col=0)\n",
    "f_df3.shape"
   ]
  },
  {
   "cell_type": "code",
   "execution_count": 9,
   "id": "16175594",
   "metadata": {},
   "outputs": [
    {
     "data": {
      "text/html": [
       "<div>\n",
       "<style scoped>\n",
       "    .dataframe tbody tr th:only-of-type {\n",
       "        vertical-align: middle;\n",
       "    }\n",
       "\n",
       "    .dataframe tbody tr th {\n",
       "        vertical-align: top;\n",
       "    }\n",
       "\n",
       "    .dataframe thead th {\n",
       "        text-align: right;\n",
       "    }\n",
       "</style>\n",
       "<table border=\"1\" class=\"dataframe\">\n",
       "  <thead>\n",
       "    <tr style=\"text-align: right;\">\n",
       "      <th></th>\n",
       "      <th>news_text</th>\n",
       "      <th>category</th>\n",
       "    </tr>\n",
       "  </thead>\n",
       "  <tbody>\n",
       "    <tr>\n",
       "      <th>0</th>\n",
       "      <td>10대 제약사에 ALT-B4 공급[서울경제] 알테오젠(196170)은 자사가 개발한...</td>\n",
       "      <td>241</td>\n",
       "    </tr>\n",
       "    <tr>\n",
       "      <th>1</th>\n",
       "      <td>2020년 6월부터 내부신고 가능하도록 익명신고 도입강원도 원주에 위치한 국민건강보...</td>\n",
       "      <td>241</td>\n",
       "    </tr>\n",
       "    <tr>\n",
       "      <th>2</th>\n",
       "      <td>완벽주의자는 본인의 결점만 탓하다 부정적 감정에 파묻혀 자해를 할 위험성이 높은 것...</td>\n",
       "      <td>241</td>\n",
       "    </tr>\n",
       "    <tr>\n",
       "      <th>3</th>\n",
       "      <td>강북삼성병원, 성인 1만4000여명 체중변화-지방간 위험 분석“체중 5% 감소 시 ...</td>\n",
       "      <td>241</td>\n",
       "    </tr>\n",
       "    <tr>\n",
       "      <th>4</th>\n",
       "      <td>유튜브에서 수막구균 백과사전·동요동화, 인스타그램에선 육아웹툰 공개GSK는 세계예방...</td>\n",
       "      <td>241</td>\n",
       "    </tr>\n",
       "  </tbody>\n",
       "</table>\n",
       "</div>"
      ],
      "text/plain": [
       "                                           news_text  category\n",
       "0  10대 제약사에 ALT-B4 공급[서울경제] 알테오젠(196170)은 자사가 개발한...       241\n",
       "1  2020년 6월부터 내부신고 가능하도록 익명신고 도입강원도 원주에 위치한 국민건강보...       241\n",
       "2  완벽주의자는 본인의 결점만 탓하다 부정적 감정에 파묻혀 자해를 할 위험성이 높은 것...       241\n",
       "3  강북삼성병원, 성인 1만4000여명 체중변화-지방간 위험 분석“체중 5% 감소 시 ...       241\n",
       "4  유튜브에서 수막구균 백과사전·동요동화, 인스타그램에선 육아웹툰 공개GSK는 세계예방...       241"
      ]
     },
     "execution_count": 9,
     "metadata": {},
     "output_type": "execute_result"
    }
   ],
   "source": [
    "f_df3.head()"
   ]
  }
 ],
 "metadata": {
  "kernelspec": {
   "display_name": "Python 3 (ipykernel)",
   "language": "python",
   "name": "python3"
  },
  "language_info": {
   "codemirror_mode": {
    "name": "ipython",
    "version": 3
   },
   "file_extension": ".py",
   "mimetype": "text/x-python",
   "name": "python",
   "nbconvert_exporter": "python",
   "pygments_lexer": "ipython3",
   "version": "3.8.13"
  }
 },
 "nbformat": 4,
 "nbformat_minor": 5
}
