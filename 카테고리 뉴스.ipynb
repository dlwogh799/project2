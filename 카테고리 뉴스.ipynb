{
 "cells": [
  {
   "cell_type": "code",
   "execution_count": 1,
   "id": "1cdd5dda",
   "metadata": {},
   "outputs": [],
   "source": [
    "from bs4 import BeautifulSoup\n",
    "import requests\n",
    "import re\n",
    "import pandas as pd\n",
    "import numpy as np\n",
    "import konlpy"
   ]
  },
  {
   "cell_type": "code",
   "execution_count": 2,
   "id": "a3178b39",
   "metadata": {},
   "outputs": [],
   "source": [
    "import requests\n",
    "import pandas as pd\n",
    "import urllib.request as req\n",
    "from bs4 import BeautifulSoup"
   ]
  },
  {
   "cell_type": "code",
   "execution_count": 3,
   "id": "03be5d2e",
   "metadata": {},
   "outputs": [
    {
     "data": {
      "text/html": [
       "<div>\n",
       "<style scoped>\n",
       "    .dataframe tbody tr th:only-of-type {\n",
       "        vertical-align: middle;\n",
       "    }\n",
       "\n",
       "    .dataframe tbody tr th {\n",
       "        vertical-align: top;\n",
       "    }\n",
       "\n",
       "    .dataframe thead th {\n",
       "        text-align: right;\n",
       "    }\n",
       "</style>\n",
       "<table border=\"1\" class=\"dataframe\">\n",
       "  <thead>\n",
       "    <tr style=\"text-align: right;\">\n",
       "      <th></th>\n",
       "      <th>news_text</th>\n",
       "      <th>category</th>\n",
       "    </tr>\n",
       "  </thead>\n",
       "  <tbody>\n",
       "  </tbody>\n",
       "</table>\n",
       "</div>"
      ],
      "text/plain": [
       "Empty DataFrame\n",
       "Columns: [news_text, category]\n",
       "Index: []"
      ]
     },
     "execution_count": 3,
     "metadata": {},
     "output_type": "execute_result"
    }
   ],
   "source": [
    "news_df = pd.DataFrame(columns = ['news_text','category'])\n",
    "news_df"
   ]
  },
  {
   "cell_type": "code",
   "execution_count": 4,
   "id": "736ab3b1",
   "metadata": {},
   "outputs": [],
   "source": [
    "import requests\n",
    "import pandas as pd\n",
    "import urllib.request as req\n",
    "from bs4 import BeautifulSoup\n",
    "cat=[100,102,103,105,104]\n",
    "page=0\n",
    "def make_urllist(cat,page):\n",
    "    urllist=[]\n",
    "    for i in range(cat):\n",
    "        url = 'https://news.naver.com/main/main.naver?mode=LSD&mid=shm&sid1='+str(cat)+'&date=%2000:00:00&page='+str(page)\n",
    "        headers = {'User-Agent': 'Mozilla/5.0 (Windows NT 10.0; Win64; x64) AppleWebKit/537.36 (KHTML, like Gecko) Chrome/100.0.4896.127 Safari/537.36'}\n",
    "        news = requests.get(url, headers=headers)\n",
    "        soup = BeautifulSoup(news.text,'html.parser')\n",
    "        li = []\n",
    "        text = soup.find_all(class_='cluster_item as_line')\n",
    "        for i in text:\n",
    "            d ={}\n",
    "            d['title']=i.find(class_='cluster_text').get_text()\n",
    "            d['cat']=cat\n",
    "            d['title'] = re.sub('\\n','',d['title'])\n",
    "            d['title'] = re.sub('\\t','',d['title'])\n",
    "            li.append(d)\n",
    "            df=pd.DataFrame(li)\n",
    "            page+=1\n",
    "        return df"
   ]
  },
  {
   "cell_type": "code",
   "execution_count": 5,
   "id": "2e78e7db",
   "metadata": {},
   "outputs": [
    {
     "data": {
      "text/html": [
       "<div>\n",
       "<style scoped>\n",
       "    .dataframe tbody tr th:only-of-type {\n",
       "        vertical-align: middle;\n",
       "    }\n",
       "\n",
       "    .dataframe tbody tr th {\n",
       "        vertical-align: top;\n",
       "    }\n",
       "\n",
       "    .dataframe thead th {\n",
       "        text-align: right;\n",
       "    }\n",
       "</style>\n",
       "<table border=\"1\" class=\"dataframe\">\n",
       "  <thead>\n",
       "    <tr style=\"text-align: right;\">\n",
       "      <th></th>\n",
       "      <th>news_text</th>\n",
       "      <th>category</th>\n",
       "    </tr>\n",
       "  </thead>\n",
       "  <tbody>\n",
       "  </tbody>\n",
       "</table>\n",
       "</div>"
      ],
      "text/plain": [
       "Empty DataFrame\n",
       "Columns: [news_text, category]\n",
       "Index: []"
      ]
     },
     "execution_count": 5,
     "metadata": {},
     "output_type": "execute_result"
    }
   ],
   "source": [
    "news_df = pd.DataFrame(columns = ['news_text','category'])\n",
    "news_df"
   ]
  },
  {
   "cell_type": "code",
   "execution_count": 6,
   "id": "317ac8e5",
   "metadata": {},
   "outputs": [
    {
     "data": {
      "text/html": [
       "<div>\n",
       "<style scoped>\n",
       "    .dataframe tbody tr th:only-of-type {\n",
       "        vertical-align: middle;\n",
       "    }\n",
       "\n",
       "    .dataframe tbody tr th {\n",
       "        vertical-align: top;\n",
       "    }\n",
       "\n",
       "    .dataframe thead th {\n",
       "        text-align: right;\n",
       "    }\n",
       "</style>\n",
       "<table border=\"1\" class=\"dataframe\">\n",
       "  <thead>\n",
       "    <tr style=\"text-align: right;\">\n",
       "      <th></th>\n",
       "      <th>news_text</th>\n",
       "      <th>category</th>\n",
       "    </tr>\n",
       "  </thead>\n",
       "  <tbody>\n",
       "    <tr>\n",
       "      <th>0</th>\n",
       "      <td>“곧 저에 대한 보복 수사 준비할 듯” 조롱김용민 더불어민주당 의원. [연합][헤럴...</td>\n",
       "      <td>100</td>\n",
       "    </tr>\n",
       "    <tr>\n",
       "      <th>1</th>\n",
       "      <td>송영길 더불어민주당 전 대표가 20일 서울시 여의도 이룸센터 앞 전국장애인차별철폐연...</td>\n",
       "      <td>100</td>\n",
       "    </tr>\n",
       "    <tr>\n",
       "      <th>2</th>\n",
       "      <td>김용민 의원, 광주고검장 문자 그대로 실명 공개김용민 더불어민주당 의원 페이스북 캡...</td>\n",
       "      <td>100</td>\n",
       "    </tr>\n",
       "    <tr>\n",
       "      <th>3</th>\n",
       "      <td>한국투자증권 보고서[이데일리 이지현 기자] 이창용 한국은행 총재가 오늘부터 4년의 ...</td>\n",
       "      <td>100</td>\n",
       "    </tr>\n",
       "    <tr>\n",
       "      <th>4</th>\n",
       "      <td>[[the300]]윤호중, 박지현 더불어민주당 공동비상대책위원장이 20일 오전 서울...</td>\n",
       "      <td>100</td>\n",
       "    </tr>\n",
       "    <tr>\n",
       "      <th>...</th>\n",
       "      <td>...</td>\n",
       "      <td>...</td>\n",
       "    </tr>\n",
       "    <tr>\n",
       "      <th>10049</th>\n",
       "      <td>채굴업체 비트리버 등 11곳 대상“인권유린” 러 635명 비자 제한조 바이든 미국 ...</td>\n",
       "      <td>104</td>\n",
       "    </tr>\n",
       "    <tr>\n",
       "      <th>10050</th>\n",
       "      <td>미국 연방정부가 대중교통 마스크 착용 의무화 조치를 무효화한 법원 결정에 항소하겠다...</td>\n",
       "      <td>104</td>\n",
       "    </tr>\n",
       "    <tr>\n",
       "      <th>10051</th>\n",
       "      <td>마스크 착용 요구 안내. 〈사진-로이터·연합뉴스〉         미국 정부가 대중교...</td>\n",
       "      <td>104</td>\n",
       "    </tr>\n",
       "    <tr>\n",
       "      <th>10052</th>\n",
       "      <td>중도보수 성향의 에마뉘엘 마크롱 대통령과 극우 성향의 마린 르펜 국민연합 후보가 2...</td>\n",
       "      <td>104</td>\n",
       "    </tr>\n",
       "    <tr>\n",
       "      <th>10053</th>\n",
       "      <td>블라디미르 푸틴 러시아 대통령   [사진 제공= 로이터연합뉴스]블라디미르 푸틴 러시...</td>\n",
       "      <td>104</td>\n",
       "    </tr>\n",
       "  </tbody>\n",
       "</table>\n",
       "<p>10054 rows × 2 columns</p>\n",
       "</div>"
      ],
      "text/plain": [
       "                                               news_text  category\n",
       "0      “곧 저에 대한 보복 수사 준비할 듯” 조롱김용민 더불어민주당 의원. [연합][헤럴...       100\n",
       "1      송영길 더불어민주당 전 대표가 20일 서울시 여의도 이룸센터 앞 전국장애인차별철폐연...       100\n",
       "2      김용민 의원, 광주고검장 문자 그대로 실명 공개김용민 더불어민주당 의원 페이스북 캡...       100\n",
       "3      한국투자증권 보고서[이데일리 이지현 기자] 이창용 한국은행 총재가 오늘부터 4년의 ...       100\n",
       "4      [[the300]]윤호중, 박지현 더불어민주당 공동비상대책위원장이 20일 오전 서울...       100\n",
       "...                                                  ...       ...\n",
       "10049  채굴업체 비트리버 등 11곳 대상“인권유린” 러 635명 비자 제한조 바이든 미국 ...       104\n",
       "10050  미국 연방정부가 대중교통 마스크 착용 의무화 조치를 무효화한 법원 결정에 항소하겠다...       104\n",
       "10051  마스크 착용 요구 안내. 〈사진-로이터·연합뉴스〉         미국 정부가 대중교...       104\n",
       "10052  중도보수 성향의 에마뉘엘 마크롱 대통령과 극우 성향의 마린 르펜 국민연합 후보가 2...       104\n",
       "10053  블라디미르 푸틴 러시아 대통령   [사진 제공= 로이터연합뉴스]블라디미르 푸틴 러시...       104\n",
       "\n",
       "[10054 rows x 2 columns]"
      ]
     },
     "execution_count": 6,
     "metadata": {},
     "output_type": "execute_result"
    }
   ],
   "source": [
    "cats=[100,102,103,105,104]\n",
    "ind = 0\n",
    "for cat in cats:   \n",
    "    for i in range(70):\n",
    "        \n",
    "        url = 'https://news.naver.com/main/main.naver?mode=LSD&mid=shm&sid1='+str(cat)+'&date=%2000:00:00&page='+str(i+1)\n",
    "        headers = {'User-Agent': 'Mozilla/5.0 (Windows NT 10.0; Win64; x64) AppleWebKit/537.36 (KHTML, like Gecko) Chrome/100.0.4896.127 Safari/537.36'}\n",
    "        news = requests.get(url, headers=headers)\n",
    "        soup = BeautifulSoup(news.text,'html.parser')\n",
    "        links = soup.select(' #main_content > div > div > div > div > div > ul > li > div > a')\n",
    "        # 첫번째 뉴스,두번쨰 세번째 넘버링 하기 위해 enumerate사용\n",
    "        #주소를 가져온 뒤 거기서 id로 준 값에 해당하는 내용 추출\n",
    "        newslinks=[]\n",
    "        for j, a in enumerate(links):            \n",
    "            newslink = a.get('href')\n",
    "            newslinks.append(newslink)\n",
    "            newslinks = list(set(newslinks))        \n",
    "        \n",
    "        for link in newslinks:\n",
    "            res2 = requests.get(link,headers = headers).text\n",
    "            soup2 = BeautifulSoup(res2,'html.parser')\n",
    "            news = soup2.find('div',id = \"articleBodyContents\").text\n",
    "            news = re.sub('\\n','',news)\n",
    "            news = re.sub('\\t','',news)\n",
    "            news_df.loc[ind] = [news,cat]\n",
    "            ind += 1\n",
    "news_df"
   ]
  },
  {
   "cell_type": "code",
   "execution_count": 7,
   "id": "8701aa52",
   "metadata": {},
   "outputs": [],
   "source": [
    "news_df.to_csv('news_dff.csv',mode='w')"
   ]
  },
  {
   "cell_type": "code",
   "execution_count": 8,
   "id": "206f7301",
   "metadata": {},
   "outputs": [
    {
     "data": {
      "text/plain": [
       "(10054, 2)"
      ]
     },
     "execution_count": 8,
     "metadata": {},
     "output_type": "execute_result"
    }
   ],
   "source": [
    "f_df = pd.read_csv('news_dff.csv',index_col=0)\n",
    "f_df.shape"
   ]
  },
  {
   "cell_type": "code",
   "execution_count": 9,
   "id": "d40a2405",
   "metadata": {},
   "outputs": [
    {
     "data": {
      "text/html": [
       "<div>\n",
       "<style scoped>\n",
       "    .dataframe tbody tr th:only-of-type {\n",
       "        vertical-align: middle;\n",
       "    }\n",
       "\n",
       "    .dataframe tbody tr th {\n",
       "        vertical-align: top;\n",
       "    }\n",
       "\n",
       "    .dataframe thead th {\n",
       "        text-align: right;\n",
       "    }\n",
       "</style>\n",
       "<table border=\"1\" class=\"dataframe\">\n",
       "  <thead>\n",
       "    <tr style=\"text-align: right;\">\n",
       "      <th></th>\n",
       "      <th>news_text</th>\n",
       "      <th>category</th>\n",
       "    </tr>\n",
       "  </thead>\n",
       "  <tbody>\n",
       "    <tr>\n",
       "      <th>0</th>\n",
       "      <td>“곧 저에 대한 보복 수사 준비할 듯” 조롱김용민 더불어민주당 의원. [연합][헤럴...</td>\n",
       "      <td>100</td>\n",
       "    </tr>\n",
       "    <tr>\n",
       "      <th>1</th>\n",
       "      <td>송영길 더불어민주당 전 대표가 20일 서울시 여의도 이룸센터 앞 전국장애인차별철폐연...</td>\n",
       "      <td>100</td>\n",
       "    </tr>\n",
       "    <tr>\n",
       "      <th>2</th>\n",
       "      <td>김용민 의원, 광주고검장 문자 그대로 실명 공개김용민 더불어민주당 의원 페이스북 캡...</td>\n",
       "      <td>100</td>\n",
       "    </tr>\n",
       "    <tr>\n",
       "      <th>3</th>\n",
       "      <td>한국투자증권 보고서[이데일리 이지현 기자] 이창용 한국은행 총재가 오늘부터 4년의 ...</td>\n",
       "      <td>100</td>\n",
       "    </tr>\n",
       "    <tr>\n",
       "      <th>4</th>\n",
       "      <td>[[the300]]윤호중, 박지현 더불어민주당 공동비상대책위원장이 20일 오전 서울...</td>\n",
       "      <td>100</td>\n",
       "    </tr>\n",
       "  </tbody>\n",
       "</table>\n",
       "</div>"
      ],
      "text/plain": [
       "                                           news_text  category\n",
       "0  “곧 저에 대한 보복 수사 준비할 듯” 조롱김용민 더불어민주당 의원. [연합][헤럴...       100\n",
       "1  송영길 더불어민주당 전 대표가 20일 서울시 여의도 이룸센터 앞 전국장애인차별철폐연...       100\n",
       "2  김용민 의원, 광주고검장 문자 그대로 실명 공개김용민 더불어민주당 의원 페이스북 캡...       100\n",
       "3  한국투자증권 보고서[이데일리 이지현 기자] 이창용 한국은행 총재가 오늘부터 4년의 ...       100\n",
       "4  [[the300]]윤호중, 박지현 더불어민주당 공동비상대책위원장이 20일 오전 서울...       100"
      ]
     },
     "execution_count": 9,
     "metadata": {},
     "output_type": "execute_result"
    }
   ],
   "source": [
    "f_df.head()"
   ]
  },
  {
   "cell_type": "code",
   "execution_count": 10,
   "id": "227f3410",
   "metadata": {},
   "outputs": [
    {
     "data": {
      "text/plain": [
       "100    2800\n",
       "102    2752\n",
       "104    1982\n",
       "105    1400\n",
       "103    1120\n",
       "Name: category, dtype: int64"
      ]
     },
     "execution_count": 10,
     "metadata": {},
     "output_type": "execute_result"
    }
   ],
   "source": [
    "f_df.category.value_counts()"
   ]
  },
  {
   "cell_type": "code",
   "execution_count": 11,
   "id": "2a10a6a7",
   "metadata": {},
   "outputs": [],
   "source": [
    "f_df_100 = f_df[f_df.category==100][:1000]\n",
    "f_df_102 = f_df[f_df.category==102][:1000]\n",
    "f_df_103 = f_df[f_df.category==103][:1000]\n",
    "f_df_104 = f_df[f_df.category==104][:1000]\n",
    "f_df_105 = f_df[f_df.category==105][:1000]"
   ]
  },
  {
   "cell_type": "code",
   "execution_count": 12,
   "id": "bcf52274",
   "metadata": {},
   "outputs": [
    {
     "data": {
      "text/plain": [
       "(5000, 2)"
      ]
     },
     "execution_count": 12,
     "metadata": {},
     "output_type": "execute_result"
    }
   ],
   "source": [
    "import pandas as pd\n",
    "news1_df = pd.concat([f_df_100,f_df_102,f_df_103,f_df_104,f_df_105],axis=0)\n",
    "news1_df.shape"
   ]
  },
  {
   "cell_type": "code",
   "execution_count": 13,
   "id": "35968158",
   "metadata": {},
   "outputs": [
    {
     "data": {
      "text/html": [
       "<div>\n",
       "<style scoped>\n",
       "    .dataframe tbody tr th:only-of-type {\n",
       "        vertical-align: middle;\n",
       "    }\n",
       "\n",
       "    .dataframe tbody tr th {\n",
       "        vertical-align: top;\n",
       "    }\n",
       "\n",
       "    .dataframe thead th {\n",
       "        text-align: right;\n",
       "    }\n",
       "</style>\n",
       "<table border=\"1\" class=\"dataframe\">\n",
       "  <thead>\n",
       "    <tr style=\"text-align: right;\">\n",
       "      <th></th>\n",
       "      <th>news_text</th>\n",
       "      <th>category</th>\n",
       "    </tr>\n",
       "  </thead>\n",
       "  <tbody>\n",
       "    <tr>\n",
       "      <th>0</th>\n",
       "      <td>“곧 저에 대한 보복 수사 준비할 듯” 조롱김용민 더불어민주당 의원. [연합][헤럴...</td>\n",
       "      <td>100</td>\n",
       "    </tr>\n",
       "    <tr>\n",
       "      <th>1</th>\n",
       "      <td>송영길 더불어민주당 전 대표가 20일 서울시 여의도 이룸센터 앞 전국장애인차별철폐연...</td>\n",
       "      <td>100</td>\n",
       "    </tr>\n",
       "    <tr>\n",
       "      <th>2</th>\n",
       "      <td>김용민 의원, 광주고검장 문자 그대로 실명 공개김용민 더불어민주당 의원 페이스북 캡...</td>\n",
       "      <td>100</td>\n",
       "    </tr>\n",
       "    <tr>\n",
       "      <th>3</th>\n",
       "      <td>한국투자증권 보고서[이데일리 이지현 기자] 이창용 한국은행 총재가 오늘부터 4년의 ...</td>\n",
       "      <td>100</td>\n",
       "    </tr>\n",
       "    <tr>\n",
       "      <th>4</th>\n",
       "      <td>[[the300]]윤호중, 박지현 더불어민주당 공동비상대책위원장이 20일 오전 서울...</td>\n",
       "      <td>100</td>\n",
       "    </tr>\n",
       "  </tbody>\n",
       "</table>\n",
       "</div>"
      ],
      "text/plain": [
       "                                           news_text  category\n",
       "0  “곧 저에 대한 보복 수사 준비할 듯” 조롱김용민 더불어민주당 의원. [연합][헤럴...       100\n",
       "1  송영길 더불어민주당 전 대표가 20일 서울시 여의도 이룸센터 앞 전국장애인차별철폐연...       100\n",
       "2  김용민 의원, 광주고검장 문자 그대로 실명 공개김용민 더불어민주당 의원 페이스북 캡...       100\n",
       "3  한국투자증권 보고서[이데일리 이지현 기자] 이창용 한국은행 총재가 오늘부터 4년의 ...       100\n",
       "4  [[the300]]윤호중, 박지현 더불어민주당 공동비상대책위원장이 20일 오전 서울...       100"
      ]
     },
     "execution_count": 13,
     "metadata": {},
     "output_type": "execute_result"
    }
   ],
   "source": [
    "news1_df.head()"
   ]
  },
  {
   "cell_type": "code",
   "execution_count": 14,
   "id": "9cc157c4",
   "metadata": {},
   "outputs": [],
   "source": [
    "news1_df.to_csv('news1_df_1000.csv',index=False)"
   ]
  },
  {
   "cell_type": "code",
   "execution_count": 15,
   "id": "a40ee511",
   "metadata": {},
   "outputs": [
    {
     "data": {
      "text/html": [
       "<div>\n",
       "<style scoped>\n",
       "    .dataframe tbody tr th:only-of-type {\n",
       "        vertical-align: middle;\n",
       "    }\n",
       "\n",
       "    .dataframe tbody tr th {\n",
       "        vertical-align: top;\n",
       "    }\n",
       "\n",
       "    .dataframe thead th {\n",
       "        text-align: right;\n",
       "    }\n",
       "</style>\n",
       "<table border=\"1\" class=\"dataframe\">\n",
       "  <thead>\n",
       "    <tr style=\"text-align: right;\">\n",
       "      <th></th>\n",
       "      <th>news_text</th>\n",
       "      <th>category</th>\n",
       "    </tr>\n",
       "  </thead>\n",
       "  <tbody>\n",
       "    <tr>\n",
       "      <th>0</th>\n",
       "      <td>“곧 저에 대한 보복 수사 준비할 듯” 조롱김용민 더불어민주당 의원. [연합][헤럴...</td>\n",
       "      <td>100</td>\n",
       "    </tr>\n",
       "    <tr>\n",
       "      <th>1</th>\n",
       "      <td>송영길 더불어민주당 전 대표가 20일 서울시 여의도 이룸센터 앞 전국장애인차별철폐연...</td>\n",
       "      <td>100</td>\n",
       "    </tr>\n",
       "    <tr>\n",
       "      <th>2</th>\n",
       "      <td>김용민 의원, 광주고검장 문자 그대로 실명 공개김용민 더불어민주당 의원 페이스북 캡...</td>\n",
       "      <td>100</td>\n",
       "    </tr>\n",
       "    <tr>\n",
       "      <th>3</th>\n",
       "      <td>한국투자증권 보고서[이데일리 이지현 기자] 이창용 한국은행 총재가 오늘부터 4년의 ...</td>\n",
       "      <td>100</td>\n",
       "    </tr>\n",
       "    <tr>\n",
       "      <th>4</th>\n",
       "      <td>[[the300]]윤호중, 박지현 더불어민주당 공동비상대책위원장이 20일 오전 서울...</td>\n",
       "      <td>100</td>\n",
       "    </tr>\n",
       "  </tbody>\n",
       "</table>\n",
       "</div>"
      ],
      "text/plain": [
       "                                           news_text  category\n",
       "0  “곧 저에 대한 보복 수사 준비할 듯” 조롱김용민 더불어민주당 의원. [연합][헤럴...       100\n",
       "1  송영길 더불어민주당 전 대표가 20일 서울시 여의도 이룸센터 앞 전국장애인차별철폐연...       100\n",
       "2  김용민 의원, 광주고검장 문자 그대로 실명 공개김용민 더불어민주당 의원 페이스북 캡...       100\n",
       "3  한국투자증권 보고서[이데일리 이지현 기자] 이창용 한국은행 총재가 오늘부터 4년의 ...       100\n",
       "4  [[the300]]윤호중, 박지현 더불어민주당 공동비상대책위원장이 20일 오전 서울...       100"
      ]
     },
     "execution_count": 15,
     "metadata": {},
     "output_type": "execute_result"
    }
   ],
   "source": [
    "news2_df = pd.read_csv('news1_df_1000.csv')\n",
    "news2_df.head()"
   ]
  },
  {
   "cell_type": "code",
   "execution_count": null,
   "id": "7f50512b",
   "metadata": {},
   "outputs": [],
   "source": []
  },
  {
   "cell_type": "code",
   "execution_count": null,
   "id": "3d12e5ee",
   "metadata": {},
   "outputs": [],
   "source": []
  }
 ],
 "metadata": {
  "kernelspec": {
   "display_name": "Python 3 (ipykernel)",
   "language": "python",
   "name": "python3"
  },
  "language_info": {
   "codemirror_mode": {
    "name": "ipython",
    "version": 3
   },
   "file_extension": ".py",
   "mimetype": "text/x-python",
   "name": "python",
   "nbconvert_exporter": "python",
   "pygments_lexer": "ipython3",
   "version": "3.8.13"
  }
 },
 "nbformat": 4,
 "nbformat_minor": 5
}
