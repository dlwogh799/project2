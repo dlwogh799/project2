{
 "cells": [
  {
   "cell_type": "code",
   "execution_count": 6,
   "id": "0c798850",
   "metadata": {},
   "outputs": [
    {
     "name": "stdout",
     "output_type": "stream",
     "text": [
      "Requirement already satisfied: requests in c:\\users\\dlwog\\anaconda3\\envs\\cakd5\\lib\\site-packages (2.27.1)\n",
      "Requirement already satisfied: certifi>=2017.4.17 in c:\\users\\dlwog\\anaconda3\\envs\\cakd5\\lib\\site-packages (from requests) (2021.10.8)\n",
      "Requirement already satisfied: idna<4,>=2.5 in c:\\users\\dlwog\\anaconda3\\envs\\cakd5\\lib\\site-packages (from requests) (3.3)\n",
      "Requirement already satisfied: charset-normalizer~=2.0.0 in c:\\users\\dlwog\\anaconda3\\envs\\cakd5\\lib\\site-packages (from requests) (2.0.12)\n",
      "Requirement already satisfied: urllib3<1.27,>=1.21.1 in c:\\users\\dlwog\\anaconda3\\envs\\cakd5\\lib\\site-packages (from requests) (1.26.9)\n"
     ]
    }
   ],
   "source": [
    "!pip install requests"
   ]
  },
  {
   "cell_type": "code",
   "execution_count": 41,
   "id": "d77a75d1",
   "metadata": {},
   "outputs": [
    {
     "name": "stdout",
     "output_type": "stream",
     "text": [
      "Requirement already satisfied: selenium in c:\\users\\dlwog\\anaconda3\\envs\\cakd5\\lib\\site-packages (4.1.3)\n",
      "Requirement already satisfied: trio-websocket~=0.9 in c:\\users\\dlwog\\anaconda3\\envs\\cakd5\\lib\\site-packages (from selenium) (0.9.2)\n",
      "Requirement already satisfied: trio~=0.17 in c:\\users\\dlwog\\anaconda3\\envs\\cakd5\\lib\\site-packages (from selenium) (0.20.0)\n",
      "Requirement already satisfied: urllib3[secure,socks]~=1.26 in c:\\users\\dlwog\\anaconda3\\envs\\cakd5\\lib\\site-packages (from selenium) (1.26.9)\n",
      "Requirement already satisfied: async-generator>=1.9 in c:\\users\\dlwog\\anaconda3\\envs\\cakd5\\lib\\site-packages (from trio~=0.17->selenium) (1.10)\n",
      "Requirement already satisfied: idna in c:\\users\\dlwog\\anaconda3\\envs\\cakd5\\lib\\site-packages (from trio~=0.17->selenium) (3.3)\n",
      "Requirement already satisfied: sniffio in c:\\users\\dlwog\\anaconda3\\envs\\cakd5\\lib\\site-packages (from trio~=0.17->selenium) (1.2.0)\n",
      "Requirement already satisfied: outcome in c:\\users\\dlwog\\anaconda3\\envs\\cakd5\\lib\\site-packages (from trio~=0.17->selenium) (1.1.0)\n",
      "Requirement already satisfied: cffi>=1.14 in c:\\users\\dlwog\\anaconda3\\envs\\cakd5\\lib\\site-packages (from trio~=0.17->selenium) (1.15.0)\n",
      "Requirement already satisfied: sortedcontainers in c:\\users\\dlwog\\anaconda3\\envs\\cakd5\\lib\\site-packages (from trio~=0.17->selenium) (2.4.0)\n",
      "Requirement already satisfied: attrs>=19.2.0 in c:\\users\\dlwog\\anaconda3\\envs\\cakd5\\lib\\site-packages (from trio~=0.17->selenium) (21.4.0)\n",
      "Requirement already satisfied: pycparser in c:\\users\\dlwog\\anaconda3\\envs\\cakd5\\lib\\site-packages (from cffi>=1.14->trio~=0.17->selenium) (2.21)\n",
      "Requirement already satisfied: wsproto>=0.14 in c:\\users\\dlwog\\anaconda3\\envs\\cakd5\\lib\\site-packages (from trio-websocket~=0.9->selenium) (1.1.0)\n",
      "Requirement already satisfied: cryptography>=1.3.4 in c:\\users\\dlwog\\anaconda3\\envs\\cakd5\\lib\\site-packages (from urllib3[secure,socks]~=1.26->selenium) (36.0.2)\n",
      "Requirement already satisfied: pyOpenSSL>=0.14 in c:\\users\\dlwog\\anaconda3\\envs\\cakd5\\lib\\site-packages (from urllib3[secure,socks]~=1.26->selenium) (22.0.0)\n",
      "Requirement already satisfied: certifi in c:\\users\\dlwog\\anaconda3\\envs\\cakd5\\lib\\site-packages (from urllib3[secure,socks]~=1.26->selenium) (2021.10.8)\n",
      "Requirement already satisfied: PySocks!=1.5.7,<2.0,>=1.5.6 in c:\\users\\dlwog\\anaconda3\\envs\\cakd5\\lib\\site-packages (from urllib3[secure,socks]~=1.26->selenium) (1.7.1)\n",
      "Requirement already satisfied: h11<1,>=0.9.0 in c:\\users\\dlwog\\anaconda3\\envs\\cakd5\\lib\\site-packages (from wsproto>=0.14->trio-websocket~=0.9->selenium) (0.13.0)\n"
     ]
    }
   ],
   "source": [
    "!pip install selenium"
   ]
  },
  {
   "cell_type": "code",
   "execution_count": 2,
   "id": "71467f3c",
   "metadata": {},
   "outputs": [],
   "source": [
    "from bs4 import BeautifulSoup\n",
    "import requests\n",
    "import re\n",
    "import pandas as pd\n",
    "import numpy as np\n",
    "import konlpy"
   ]
  },
  {
   "cell_type": "code",
   "execution_count": 8,
   "id": "c52b63d9",
   "metadata": {},
   "outputs": [
    {
     "data": {
      "text/html": [
       "<div>\n",
       "<style scoped>\n",
       "    .dataframe tbody tr th:only-of-type {\n",
       "        vertical-align: middle;\n",
       "    }\n",
       "\n",
       "    .dataframe tbody tr th {\n",
       "        vertical-align: top;\n",
       "    }\n",
       "\n",
       "    .dataframe thead th {\n",
       "        text-align: right;\n",
       "    }\n",
       "</style>\n",
       "<table border=\"1\" class=\"dataframe\">\n",
       "  <thead>\n",
       "    <tr style=\"text-align: right;\">\n",
       "      <th></th>\n",
       "      <th>news_text</th>\n",
       "      <th>category</th>\n",
       "    </tr>\n",
       "  </thead>\n",
       "  <tbody>\n",
       "  </tbody>\n",
       "</table>\n",
       "</div>"
      ],
      "text/plain": [
       "Empty DataFrame\n",
       "Columns: [news_text, category]\n",
       "Index: []"
      ]
     },
     "execution_count": 8,
     "metadata": {},
     "output_type": "execute_result"
    }
   ],
   "source": [
    "news_df = pd.DataFrame(columns = ['news_text','category'])\n",
    "news_df"
   ]
  },
  {
   "cell_type": "code",
   "execution_count": 3,
   "id": "ccfbaba6",
   "metadata": {},
   "outputs": [],
   "source": [
    "import requests\n",
    "import pandas as pd\n",
    "import urllib.request as req\n",
    "from bs4 import BeautifulSoup\n",
    "cat=[100,102,103,105,104] # 정치, 사회 , 생활/문화, IT/과학, 세계 \n",
    "page=0\n",
    "def make_urllist(cat,page):\n",
    "    urllist=[]\n",
    "    for i in range(cat):\n",
    "        url = 'https://news.naver.com/main/main.naver?mode=LSD&mid=shm&sid1='+str(cat)+'&date=%2000:00:00&page='+str(page)\n",
    "        headers = {'User-Agent': 'Mozilla/5.0 (X11; Linux x86_64) AppleWebKit/537.36 (KHTML, like Gecko) Chrome/54.0.2840.90 Safari/537.36'}\n",
    "        news = requests.get(url, headers=headers)\n",
    "        soup = BeautifulSoup(news.text,'html.parser')\n",
    "        li = []\n",
    "        text = soup.find_all(class_='cluster_item as_line')\n",
    "        for i in text:\n",
    "            d ={}\n",
    "            d['title']=i.find(class_='cluster_text').get_text()\n",
    "            d['cat']=cat\n",
    "            d['title'] = re.sub('\\n','',d['title'])\n",
    "            d['title'] = re.sub('\\t','',d['title'])\n",
    "            li.append(d)\n",
    "            df=pd.DataFrame(li)\n",
    "            page+=1\n",
    "        return df"
   ]
  },
  {
   "cell_type": "code",
   "execution_count": 4,
   "id": "bce81654",
   "metadata": {},
   "outputs": [
    {
     "data": {
      "text/html": [
       "<div>\n",
       "<style scoped>\n",
       "    .dataframe tbody tr th:only-of-type {\n",
       "        vertical-align: middle;\n",
       "    }\n",
       "\n",
       "    .dataframe tbody tr th {\n",
       "        vertical-align: top;\n",
       "    }\n",
       "\n",
       "    .dataframe thead th {\n",
       "        text-align: right;\n",
       "    }\n",
       "</style>\n",
       "<table border=\"1\" class=\"dataframe\">\n",
       "  <thead>\n",
       "    <tr style=\"text-align: right;\">\n",
       "      <th></th>\n",
       "      <th>title</th>\n",
       "      <th>cat</th>\n",
       "    </tr>\n",
       "  </thead>\n",
       "  <tbody>\n",
       "    <tr>\n",
       "      <th>0</th>\n",
       "      <td>아시아경제스마일게이트, 금융 계열 그룹 분리…글로벌 금융 시장 진출</td>\n",
       "      <td>105</td>\n",
       "    </tr>\n",
       "    <tr>\n",
       "      <th>1</th>\n",
       "      <td>이데일리스마일게이트, 금융 계열분리…글로벌 시장 겨냥</td>\n",
       "      <td>105</td>\n",
       "    </tr>\n",
       "    <tr>\n",
       "      <th>2</th>\n",
       "      <td>머니투데이스마일게이트, 금융 계열분리…글로벌 금융 시장 정조준</td>\n",
       "      <td>105</td>\n",
       "    </tr>\n",
       "    <tr>\n",
       "      <th>3</th>\n",
       "      <td>디지털데일리구글‧메타 그리고 ‘네이버’…한국에서도 글로벌 빅테크사 나온다</td>\n",
       "      <td>105</td>\n",
       "    </tr>\n",
       "    <tr>\n",
       "      <th>4</th>\n",
       "      <td>서울신문네이버 “5년 내 10억 사용자·매출 15조 돌파”</td>\n",
       "      <td>105</td>\n",
       "    </tr>\n",
       "    <tr>\n",
       "      <th>5</th>\n",
       "      <td>블로터\"연매출 7조→15조원\" 네이버의 자신감 원천은?…'메타버스·콘텐츠'</td>\n",
       "      <td>105</td>\n",
       "    </tr>\n",
       "    <tr>\n",
       "      <th>6</th>\n",
       "      <td>이데일리[김현아의 IT세상읽기] 디지털 파워업 정부를 기대하며</td>\n",
       "      <td>105</td>\n",
       "    </tr>\n",
       "    <tr>\n",
       "      <th>7</th>\n",
       "      <td>이데일리[김현아의 IT세상읽기]카카오에 게임모델 접목하려는 남궁훈</td>\n",
       "      <td>105</td>\n",
       "    </tr>\n",
       "    <tr>\n",
       "      <th>8</th>\n",
       "      <td>이데일리[김현아의 IT세상읽기]통신호텔과 주파수 공정성</td>\n",
       "      <td>105</td>\n",
       "    </tr>\n",
       "    <tr>\n",
       "      <th>9</th>\n",
       "      <td>아이뉴스24'미디어 콘트롤 타워' 오리무중…성장 골든타임 놓칠라 [OTT온에어]</td>\n",
       "      <td>105</td>\n",
       "    </tr>\n",
       "    <tr>\n",
       "      <th>10</th>\n",
       "      <td>아이뉴스24'KT-CJ' 사업협력 최고위 집결…'티빙-시즌' 통합 \"열려있어\" [O...</td>\n",
       "      <td>105</td>\n",
       "    </tr>\n",
       "    <tr>\n",
       "      <th>11</th>\n",
       "      <td>아이뉴스24유료방송 6개 단체, 4월 1일 尹 인수위 만난다 [OTT온에어]</td>\n",
       "      <td>105</td>\n",
       "    </tr>\n",
       "  </tbody>\n",
       "</table>\n",
       "</div>"
      ],
      "text/plain": [
       "                                                title  cat\n",
       "0               아시아경제스마일게이트, 금융 계열 그룹 분리…글로벌 금융 시장 진출  105\n",
       "1                       이데일리스마일게이트, 금융 계열분리…글로벌 시장 겨냥  105\n",
       "2                  머니투데이스마일게이트, 금융 계열분리…글로벌 금융 시장 정조준  105\n",
       "3            디지털데일리구글‧메타 그리고 ‘네이버’…한국에서도 글로벌 빅테크사 나온다  105\n",
       "4                    서울신문네이버 “5년 내 10억 사용자·매출 15조 돌파”  105\n",
       "5           블로터\"연매출 7조→15조원\" 네이버의 자신감 원천은?…'메타버스·콘텐츠'  105\n",
       "6                  이데일리[김현아의 IT세상읽기] 디지털 파워업 정부를 기대하며  105\n",
       "7                이데일리[김현아의 IT세상읽기]카카오에 게임모델 접목하려는 남궁훈  105\n",
       "8                      이데일리[김현아의 IT세상읽기]통신호텔과 주파수 공정성  105\n",
       "9        아이뉴스24'미디어 콘트롤 타워' 오리무중…성장 골든타임 놓칠라 [OTT온에어]  105\n",
       "10  아이뉴스24'KT-CJ' 사업협력 최고위 집결…'티빙-시즌' 통합 \"열려있어\" [O...  105\n",
       "11         아이뉴스24유료방송 6개 단체, 4월 1일 尹 인수위 만난다 [OTT온에어]  105"
      ]
     },
     "execution_count": 4,
     "metadata": {},
     "output_type": "execute_result"
    }
   ],
   "source": [
    "news1 = make_urllist(105,1)\n",
    "news1"
   ]
  },
  {
   "cell_type": "code",
   "execution_count": 5,
   "id": "3950b027",
   "metadata": {},
   "outputs": [
    {
     "data": {
      "text/html": [
       "<div>\n",
       "<style scoped>\n",
       "    .dataframe tbody tr th:only-of-type {\n",
       "        vertical-align: middle;\n",
       "    }\n",
       "\n",
       "    .dataframe tbody tr th {\n",
       "        vertical-align: top;\n",
       "    }\n",
       "\n",
       "    .dataframe thead th {\n",
       "        text-align: right;\n",
       "    }\n",
       "</style>\n",
       "<table border=\"1\" class=\"dataframe\">\n",
       "  <thead>\n",
       "    <tr style=\"text-align: right;\">\n",
       "      <th></th>\n",
       "      <th>title</th>\n",
       "      <th>cat</th>\n",
       "    </tr>\n",
       "  </thead>\n",
       "  <tbody>\n",
       "    <tr>\n",
       "      <th>0</th>\n",
       "      <td>SBS 비 내리며 기온 뚝…한낮 서울 16도 · 태백 6도[날씨]</td>\n",
       "      <td>103</td>\n",
       "    </tr>\n",
       "    <tr>\n",
       "      <th>1</th>\n",
       "      <td>YTN 전국 곳곳 봄비, 바람 불며 서늘...현재 서울 15.9℃[날씨]</td>\n",
       "      <td>103</td>\n",
       "    </tr>\n",
       "    <tr>\n",
       "      <th>2</th>\n",
       "      <td>KBS 내일 아침에 대부분 비 그쳐…기온은 평년과 비슷[뉴스9 날씨]</td>\n",
       "      <td>103</td>\n",
       "    </tr>\n",
       "    <tr>\n",
       "      <th>3</th>\n",
       "      <td>KBS 광주·전남 내일까지 가끔 비, 평년기온 회복[날씨]</td>\n",
       "      <td>103</td>\n",
       "    </tr>\n",
       "    <tr>\n",
       "      <th>4</th>\n",
       "      <td>SBS 오전까지 전국 곳곳에 비, 해상에 풍랑 거세[날씨]</td>\n",
       "      <td>103</td>\n",
       "    </tr>\n",
       "    <tr>\n",
       "      <th>5</th>\n",
       "      <td>뉴스1 광주·전남(13일, 수)…흐리고 가끔 비, 낮 18~24도[오늘의 날씨]</td>\n",
       "      <td>103</td>\n",
       "    </tr>\n",
       "    <tr>\n",
       "      <th>6</th>\n",
       "      <td>중앙일보[우리말 바루기] ‘~와의’ 표현을 써도 되는가?</td>\n",
       "      <td>103</td>\n",
       "    </tr>\n",
       "    <tr>\n",
       "      <th>7</th>\n",
       "      <td>중앙일보[우리말 바루기] 나의 살던 고향</td>\n",
       "      <td>103</td>\n",
       "    </tr>\n",
       "    <tr>\n",
       "      <th>8</th>\n",
       "      <td>중앙일보[우리말 바루기] ‘롱코비드’ 대신 ‘코로나 감염 후유증’</td>\n",
       "      <td>103</td>\n",
       "    </tr>\n",
       "    <tr>\n",
       "      <th>9</th>\n",
       "      <td>부산일보[펫! 톡톡] 강아지 애정 표현, 세균감염 괜찮을까?</td>\n",
       "      <td>103</td>\n",
       "    </tr>\n",
       "    <tr>\n",
       "      <th>10</th>\n",
       "      <td>부산일보[펫! 톡톡] 부산경상대 반려동물과 학과장 바통 이어받으며</td>\n",
       "      <td>103</td>\n",
       "    </tr>\n",
       "    <tr>\n",
       "      <th>11</th>\n",
       "      <td>부산일보[펫! 톡톡] 늘어가는 동물 학대, 막을 수 없을까</td>\n",
       "      <td>103</td>\n",
       "    </tr>\n",
       "  </tbody>\n",
       "</table>\n",
       "</div>"
      ],
      "text/plain": [
       "                                           title  cat\n",
       "0           SBS 비 내리며 기온 뚝…한낮 서울 16도 · 태백 6도[날씨]  103\n",
       "1       YTN 전국 곳곳 봄비, 바람 불며 서늘...현재 서울 15.9℃[날씨]  103\n",
       "2         KBS 내일 아침에 대부분 비 그쳐…기온은 평년과 비슷[뉴스9 날씨]  103\n",
       "3               KBS 광주·전남 내일까지 가끔 비, 평년기온 회복[날씨]  103\n",
       "4               SBS 오전까지 전국 곳곳에 비, 해상에 풍랑 거세[날씨]  103\n",
       "5   뉴스1 광주·전남(13일, 수)…흐리고 가끔 비, 낮 18~24도[오늘의 날씨]  103\n",
       "6                중앙일보[우리말 바루기] ‘~와의’ 표현을 써도 되는가?  103\n",
       "7                         중앙일보[우리말 바루기] 나의 살던 고향  103\n",
       "8           중앙일보[우리말 바루기] ‘롱코비드’ 대신 ‘코로나 감염 후유증’  103\n",
       "9              부산일보[펫! 톡톡] 강아지 애정 표현, 세균감염 괜찮을까?  103\n",
       "10          부산일보[펫! 톡톡] 부산경상대 반려동물과 학과장 바통 이어받으며  103\n",
       "11              부산일보[펫! 톡톡] 늘어가는 동물 학대, 막을 수 없을까  103"
      ]
     },
     "execution_count": 5,
     "metadata": {},
     "output_type": "execute_result"
    }
   ],
   "source": [
    "news2 = make_urllist(103,1)\n",
    "news2"
   ]
  },
  {
   "cell_type": "code",
   "execution_count": 7,
   "id": "9ff55748",
   "metadata": {},
   "outputs": [],
   "source": [
    "news3 = make_urllist(100,1)\n",
    "news4 = make_urllist(102,1)\n",
    "news5 = make_urllist(104,1)"
   ]
  },
  {
   "cell_type": "code",
   "execution_count": 8,
   "id": "9eafcc68",
   "metadata": {},
   "outputs": [
    {
     "data": {
      "text/html": [
       "<div>\n",
       "<style scoped>\n",
       "    .dataframe tbody tr th:only-of-type {\n",
       "        vertical-align: middle;\n",
       "    }\n",
       "\n",
       "    .dataframe tbody tr th {\n",
       "        vertical-align: top;\n",
       "    }\n",
       "\n",
       "    .dataframe thead th {\n",
       "        text-align: right;\n",
       "    }\n",
       "</style>\n",
       "<table border=\"1\" class=\"dataframe\">\n",
       "  <thead>\n",
       "    <tr style=\"text-align: right;\">\n",
       "      <th></th>\n",
       "      <th>title</th>\n",
       "      <th>cat</th>\n",
       "    </tr>\n",
       "  </thead>\n",
       "  <tbody>\n",
       "    <tr>\n",
       "      <th>0</th>\n",
       "      <td>아시아경제스마일게이트, 금융 계열 그룹 분리…글로벌 금융 시장 진출</td>\n",
       "      <td>105</td>\n",
       "    </tr>\n",
       "    <tr>\n",
       "      <th>1</th>\n",
       "      <td>이데일리스마일게이트, 금융 계열분리…글로벌 시장 겨냥</td>\n",
       "      <td>105</td>\n",
       "    </tr>\n",
       "    <tr>\n",
       "      <th>2</th>\n",
       "      <td>머니투데이스마일게이트, 금융 계열분리…글로벌 금융 시장 정조준</td>\n",
       "      <td>105</td>\n",
       "    </tr>\n",
       "    <tr>\n",
       "      <th>3</th>\n",
       "      <td>디지털데일리구글‧메타 그리고 ‘네이버’…한국에서도 글로벌 빅테크사 나온다</td>\n",
       "      <td>105</td>\n",
       "    </tr>\n",
       "    <tr>\n",
       "      <th>4</th>\n",
       "      <td>서울신문네이버 “5년 내 10억 사용자·매출 15조 돌파”</td>\n",
       "      <td>105</td>\n",
       "    </tr>\n",
       "    <tr>\n",
       "      <th>...</th>\n",
       "      <td>...</td>\n",
       "      <td>...</td>\n",
       "    </tr>\n",
       "    <tr>\n",
       "      <th>61</th>\n",
       "      <td>아시아경제\"한국은 우크라에 관심이 없다, 빈 좌석 보라\"…젤렌스키 韓 국회 연설 사...</td>\n",
       "      <td>104</td>\n",
       "    </tr>\n",
       "    <tr>\n",
       "      <th>62</th>\n",
       "      <td>경향신문젤렌스키 연설 ‘텅 빈 국회’…최소한의 예의도 없었다[기자메모]</td>\n",
       "      <td>104</td>\n",
       "    </tr>\n",
       "    <tr>\n",
       "      <th>63</th>\n",
       "      <td>오마이뉴스일본군 군영 터로 들어가는 대통령 집무실 [김종성의 '히, 스토리']</td>\n",
       "      <td>104</td>\n",
       "    </tr>\n",
       "    <tr>\n",
       "      <th>64</th>\n",
       "      <td>오마이뉴스갑부가 된 영화제작자… 그의 놀랄 만한 과거 행적 [김종성의 '히, 스토리']</td>\n",
       "      <td>104</td>\n",
       "    </tr>\n",
       "    <tr>\n",
       "      <th>65</th>\n",
       "      <td>오마이뉴스어이없는 이유로 고발 당한 이용수 할머니 [김종성의 '히, 스토리']</td>\n",
       "      <td>104</td>\n",
       "    </tr>\n",
       "  </tbody>\n",
       "</table>\n",
       "<p>66 rows × 2 columns</p>\n",
       "</div>"
      ],
      "text/plain": [
       "                                                title  cat\n",
       "0               아시아경제스마일게이트, 금융 계열 그룹 분리…글로벌 금융 시장 진출  105\n",
       "1                       이데일리스마일게이트, 금융 계열분리…글로벌 시장 겨냥  105\n",
       "2                  머니투데이스마일게이트, 금융 계열분리…글로벌 금융 시장 정조준  105\n",
       "3            디지털데일리구글‧메타 그리고 ‘네이버’…한국에서도 글로벌 빅테크사 나온다  105\n",
       "4                    서울신문네이버 “5년 내 10억 사용자·매출 15조 돌파”  105\n",
       "..                                                ...  ...\n",
       "61  아시아경제\"한국은 우크라에 관심이 없다, 빈 좌석 보라\"…젤렌스키 韓 국회 연설 사...  104\n",
       "62            경향신문젤렌스키 연설 ‘텅 빈 국회’…최소한의 예의도 없었다[기자메모]  104\n",
       "63        오마이뉴스일본군 군영 터로 들어가는 대통령 집무실 [김종성의 '히, 스토리']  104\n",
       "64   오마이뉴스갑부가 된 영화제작자… 그의 놀랄 만한 과거 행적 [김종성의 '히, 스토리']  104\n",
       "65        오마이뉴스어이없는 이유로 고발 당한 이용수 할머니 [김종성의 '히, 스토리']  104\n",
       "\n",
       "[66 rows x 2 columns]"
      ]
     },
     "execution_count": 8,
     "metadata": {},
     "output_type": "execute_result"
    }
   ],
   "source": [
    "df = pd.concat([news1,news2,news3,news4,news5],ignore_index=True)\n",
    "df"
   ]
  },
  {
   "cell_type": "code",
   "execution_count": 9,
   "id": "8fef48c0",
   "metadata": {},
   "outputs": [],
   "source": [
    "df.to_csv('news.csv',mode='w')"
   ]
  },
  {
   "cell_type": "code",
   "execution_count": 10,
   "id": "cf9b4d2d",
   "metadata": {},
   "outputs": [
    {
     "data": {
      "text/html": [
       "<div>\n",
       "<style scoped>\n",
       "    .dataframe tbody tr th:only-of-type {\n",
       "        vertical-align: middle;\n",
       "    }\n",
       "\n",
       "    .dataframe tbody tr th {\n",
       "        vertical-align: top;\n",
       "    }\n",
       "\n",
       "    .dataframe thead th {\n",
       "        text-align: right;\n",
       "    }\n",
       "</style>\n",
       "<table border=\"1\" class=\"dataframe\">\n",
       "  <thead>\n",
       "    <tr style=\"text-align: right;\">\n",
       "      <th></th>\n",
       "      <th>title</th>\n",
       "      <th>cat</th>\n",
       "    </tr>\n",
       "  </thead>\n",
       "  <tbody>\n",
       "    <tr>\n",
       "      <th>0</th>\n",
       "      <td>아시아경제스마일게이트, 금융 계열 그룹 분리…글로벌 금융 시장 진출</td>\n",
       "      <td>105</td>\n",
       "    </tr>\n",
       "    <tr>\n",
       "      <th>1</th>\n",
       "      <td>이데일리스마일게이트, 금융 계열분리…글로벌 시장 겨냥</td>\n",
       "      <td>105</td>\n",
       "    </tr>\n",
       "    <tr>\n",
       "      <th>2</th>\n",
       "      <td>머니투데이스마일게이트, 금융 계열분리…글로벌 금융 시장 정조준</td>\n",
       "      <td>105</td>\n",
       "    </tr>\n",
       "    <tr>\n",
       "      <th>3</th>\n",
       "      <td>디지털데일리구글‧메타 그리고 ‘네이버’…한국에서도 글로벌 빅테크사 나온다</td>\n",
       "      <td>105</td>\n",
       "    </tr>\n",
       "    <tr>\n",
       "      <th>4</th>\n",
       "      <td>서울신문네이버 “5년 내 10억 사용자·매출 15조 돌파”</td>\n",
       "      <td>105</td>\n",
       "    </tr>\n",
       "  </tbody>\n",
       "</table>\n",
       "</div>"
      ],
      "text/plain": [
       "                                      title  cat\n",
       "0     아시아경제스마일게이트, 금융 계열 그룹 분리…글로벌 금융 시장 진출  105\n",
       "1             이데일리스마일게이트, 금융 계열분리…글로벌 시장 겨냥  105\n",
       "2        머니투데이스마일게이트, 금융 계열분리…글로벌 금융 시장 정조준  105\n",
       "3  디지털데일리구글‧메타 그리고 ‘네이버’…한국에서도 글로벌 빅테크사 나온다  105\n",
       "4          서울신문네이버 “5년 내 10억 사용자·매출 15조 돌파”  105"
      ]
     },
     "execution_count": 10,
     "metadata": {},
     "output_type": "execute_result"
    }
   ],
   "source": [
    "n_df = pd.read_csv('news.csv',index_col=0)\n",
    "n_df.head()"
   ]
  },
  {
   "cell_type": "code",
   "execution_count": 11,
   "id": "333e6787",
   "metadata": {
    "scrolled": true
   },
   "outputs": [],
   "source": [
    "from konlpy.tag import Okt\n",
    "\n",
    "okt = Okt()\n",
    "# 형태소 단위로 리스트를 추출합니다\n",
    "def okt_tokenizer(text):\n",
    "    tokens_ko = okt.morphs(text)\n",
    "    return tokens_ko"
   ]
  },
  {
   "cell_type": "code",
   "execution_count": 36,
   "id": "20568827",
   "metadata": {},
   "outputs": [
    {
     "name": "stdout",
     "output_type": "stream",
     "text": [
      "Collecting sklearn\n",
      "  Downloading sklearn-0.0.tar.gz (1.1 kB)\n",
      "Requirement already satisfied: scikit-learn in c:\\users\\dlwog\\anaconda3\\envs\\cakd5\\lib\\site-packages (from sklearn) (1.0.2)\n",
      "Requirement already satisfied: numpy>=1.14.6 in c:\\users\\dlwog\\anaconda3\\envs\\cakd5\\lib\\site-packages (from scikit-learn->sklearn) (1.22.3)\n",
      "Requirement already satisfied: threadpoolctl>=2.0.0 in c:\\users\\dlwog\\anaconda3\\envs\\cakd5\\lib\\site-packages (from scikit-learn->sklearn) (3.1.0)\n",
      "Requirement already satisfied: scipy>=1.1.0 in c:\\users\\dlwog\\anaconda3\\envs\\cakd5\\lib\\site-packages (from scikit-learn->sklearn) (1.8.0)\n",
      "Requirement already satisfied: joblib>=0.11 in c:\\users\\dlwog\\anaconda3\\envs\\cakd5\\lib\\site-packages (from scikit-learn->sklearn) (1.1.0)\n",
      "Building wheels for collected packages: sklearn\n",
      "  Building wheel for sklearn (setup.py): started\n",
      "  Building wheel for sklearn (setup.py): finished with status 'done'\n",
      "  Created wheel for sklearn: filename=sklearn-0.0-py2.py3-none-any.whl size=1310 sha256=c8be35815aa647d59761cc829771d375eeee0a9441e4e4a7bd4ccecd61c4c9f5\n",
      "  Stored in directory: c:\\users\\dlwog\\appdata\\local\\pip\\cache\\wheels\\22\\0b\\40\\fd3f795caaa1fb4c6cb738bc1f56100be1e57da95849bfc897\n",
      "Successfully built sklearn\n",
      "Installing collected packages: sklearn\n",
      "Successfully installed sklearn-0.0\n"
     ]
    }
   ],
   "source": [
    "!pip install sklearn"
   ]
  },
  {
   "cell_type": "code",
   "execution_count": 12,
   "id": "8a837945",
   "metadata": {
    "scrolled": true
   },
   "outputs": [
    {
     "name": "stderr",
     "output_type": "stream",
     "text": [
      "C:\\Users\\dlwog\\anaconda3\\envs\\cakd5\\lib\\site-packages\\sklearn\\feature_extraction\\text.py:516: UserWarning: The parameter 'token_pattern' will not be used since 'tokenizer' is not None'\n",
      "  warnings.warn(\n"
     ]
    }
   ],
   "source": [
    "from sklearn.feature_extraction.text import TfidfVectorizer\n",
    "from sklearn.linear_model import LogisticRegression\n",
    "from sklearn.model_selection import GridSearchCV\n",
    "from sklearn.model_selection import train_test_split\n",
    "\n",
    "X_train,X_test,y_train,y_test = train_test_split(n_df['title'],n_df['cat'],test_size = 0.2, random_state=11)\n",
    "\n",
    "tfidf_vect = TfidfVectorizer(tokenizer=okt_tokenizer)\n",
    "tfidf_vect.fit(X_train)\n",
    "tfidf_matrix_train = tfidf_vect.transform(X_train)"
   ]
  },
  {
   "cell_type": "code",
   "execution_count": 13,
   "id": "4b8d2a11",
   "metadata": {},
   "outputs": [
    {
     "data": {
      "text/plain": [
       "array([0.        , 0.        , 0.        , 0.        , 0.        ,\n",
       "       0.15533392, 0.        , 0.25827496, 0.23379099, 0.23379099,\n",
       "       0.        , 0.1011118 , 0.        , 0.        , 0.        ,\n",
       "       0.21641934, 0.        , 0.        , 0.        , 0.        ,\n",
       "       0.        , 0.        , 0.        , 0.        , 0.        ,\n",
       "       0.        , 0.        , 0.        , 0.        , 0.        ,\n",
       "       0.        , 0.        , 0.        , 0.        , 0.        ,\n",
       "       0.        , 0.        , 0.        , 0.        , 0.        ,\n",
       "       0.        , 0.        , 0.        , 0.        , 0.        ,\n",
       "       0.        , 0.        , 0.        , 0.        , 0.        ,\n",
       "       0.        , 0.        , 0.        , 0.        , 0.        ,\n",
       "       0.        , 0.        , 0.        , 0.        , 0.        ,\n",
       "       0.        , 0.        , 0.        , 0.        , 0.        ,\n",
       "       0.        , 0.        , 0.21641934, 0.36525399, 0.        ,\n",
       "       0.        , 0.        , 0.        , 0.        , 0.        ,\n",
       "       0.        , 0.        , 0.        , 0.        , 0.        ,\n",
       "       0.        , 0.        , 0.        , 0.        , 0.        ,\n",
       "       0.        , 0.        , 0.        , 0.        , 0.        ,\n",
       "       0.        , 0.        , 0.        , 0.        , 0.21641934,\n",
       "       0.        , 0.        , 0.        , 0.        , 0.        ,\n",
       "       0.        , 0.        , 0.        , 0.        , 0.        ,\n",
       "       0.        , 0.        , 0.        , 0.        , 0.        ,\n",
       "       0.        , 0.        , 0.        , 0.        , 0.        ,\n",
       "       0.        , 0.        , 0.        , 0.        , 0.        ,\n",
       "       0.        , 0.        , 0.        , 0.        , 0.        ,\n",
       "       0.        , 0.        , 0.        , 0.        , 0.        ,\n",
       "       0.        , 0.        , 0.        , 0.        , 0.        ,\n",
       "       0.        , 0.        , 0.        , 0.        , 0.        ,\n",
       "       0.        , 0.        , 0.        , 0.        , 0.        ,\n",
       "       0.        , 0.        , 0.        , 0.        , 0.        ,\n",
       "       0.14524637, 0.        , 0.        , 0.        , 0.        ,\n",
       "       0.        , 0.        , 0.        , 0.        , 0.        ,\n",
       "       0.        , 0.        , 0.        , 0.        , 0.        ,\n",
       "       0.        , 0.        , 0.25827496, 0.        , 0.        ,\n",
       "       0.        , 0.        , 0.23379099, 0.        , 0.        ,\n",
       "       0.        , 0.        , 0.        , 0.        , 0.        ,\n",
       "       0.        , 0.        , 0.        , 0.        , 0.        ,\n",
       "       0.        , 0.        , 0.        , 0.        , 0.        ,\n",
       "       0.23379099, 0.        , 0.        , 0.        , 0.        ,\n",
       "       0.        , 0.        , 0.        , 0.        , 0.        ,\n",
       "       0.        , 0.        , 0.        , 0.        , 0.        ,\n",
       "       0.        , 0.        , 0.        , 0.        , 0.        ,\n",
       "       0.        , 0.        , 0.        , 0.        , 0.        ,\n",
       "       0.        , 0.        , 0.        , 0.        , 0.        ,\n",
       "       0.        , 0.        , 0.        , 0.        , 0.        ,\n",
       "       0.        , 0.        , 0.        , 0.        , 0.        ,\n",
       "       0.25827496, 0.        , 0.        , 0.        , 0.        ,\n",
       "       0.        , 0.        , 0.        , 0.        , 0.        ,\n",
       "       0.        , 0.        , 0.        , 0.        , 0.        ,\n",
       "       0.        , 0.        , 0.        , 0.        , 0.21641934,\n",
       "       0.        , 0.        , 0.        , 0.        , 0.        ,\n",
       "       0.        , 0.        , 0.        , 0.        , 0.        ,\n",
       "       0.        , 0.        , 0.        , 0.        , 0.        ,\n",
       "       0.        , 0.        , 0.        , 0.        , 0.        ,\n",
       "       0.        , 0.        , 0.        , 0.25827496, 0.        ,\n",
       "       0.        , 0.        , 0.        , 0.        , 0.        ,\n",
       "       0.        , 0.        , 0.        , 0.        , 0.21641934,\n",
       "       0.        , 0.        , 0.        , 0.        , 0.        ,\n",
       "       0.        , 0.        , 0.        , 0.        , 0.        ,\n",
       "       0.        , 0.        , 0.        , 0.        , 0.        ,\n",
       "       0.        , 0.        , 0.        , 0.        , 0.        ,\n",
       "       0.        , 0.        , 0.        , 0.        , 0.        ,\n",
       "       0.        , 0.        , 0.        , 0.        , 0.        ,\n",
       "       0.        , 0.        , 0.        , 0.        , 0.        ,\n",
       "       0.        , 0.        , 0.        , 0.        , 0.        ,\n",
       "       0.        , 0.        , 0.        , 0.        , 0.        ,\n",
       "       0.        , 0.        , 0.        , 0.        , 0.        ,\n",
       "       0.        , 0.        , 0.        , 0.        , 0.        ,\n",
       "       0.        , 0.        , 0.        , 0.        , 0.        ,\n",
       "       0.        , 0.        , 0.        , 0.        , 0.        ,\n",
       "       0.        , 0.        , 0.        , 0.        , 0.        ,\n",
       "       0.        , 0.        , 0.19193537, 0.        , 0.        ,\n",
       "       0.        , 0.        , 0.        , 0.        , 0.        ,\n",
       "       0.        , 0.        , 0.        , 0.        , 0.23379099,\n",
       "       0.        , 0.        , 0.        , 0.        , 0.        ,\n",
       "       0.        , 0.        , 0.        , 0.        , 0.        ,\n",
       "       0.        , 0.        , 0.        , 0.        , 0.        ,\n",
       "       0.        , 0.        , 0.        , 0.        , 0.        ,\n",
       "       0.        , 0.        , 0.        , 0.        , 0.        ,\n",
       "       0.        , 0.        , 0.        , 0.        , 0.        ,\n",
       "       0.        , 0.        , 0.        , 0.        , 0.        ,\n",
       "       0.        , 0.        , 0.        , 0.        , 0.        ,\n",
       "       0.        , 0.        , 0.        , 0.        , 0.        ,\n",
       "       0.        , 0.        , 0.        , 0.        , 0.        ,\n",
       "       0.        , 0.        , 0.        , 0.        , 0.        ,\n",
       "       0.        , 0.        , 0.        , 0.        , 0.        ,\n",
       "       0.        , 0.        , 0.        , 0.        , 0.        ,\n",
       "       0.        , 0.        , 0.        , 0.        , 0.        ,\n",
       "       0.        , 0.        , 0.        , 0.        , 0.        ,\n",
       "       0.        , 0.        , 0.        , 0.        , 0.        ,\n",
       "       0.        , 0.        , 0.        , 0.        , 0.        ])"
      ]
     },
     "execution_count": 13,
     "metadata": {},
     "output_type": "execute_result"
    }
   ],
   "source": [
    "tfidf_matrix_train.toarray()[0]"
   ]
  },
  {
   "cell_type": "code",
   "execution_count": 14,
   "id": "4fc7ad10",
   "metadata": {},
   "outputs": [
    {
     "name": "stdout",
     "output_type": "stream",
     "text": [
      "#lnb\n",
      "#main_content\n",
      "https://news.naver.com/main/read.naver?mode=LS2D&mid=shm&sid1=103&sid2=238&oid=366&aid=0000806279\n",
      "https://news.naver.com/main/read.naver?mode=LS2D&mid=shm&sid1=103&sid2=238&oid=366&aid=0000806279\n",
      "https://news.naver.com/main/read.naver?mode=LS2D&mid=shm&sid1=103&sid2=238&oid=417&aid=0000803570\n",
      "https://news.naver.com/main/read.naver?mode=LS2D&mid=shm&sid1=103&sid2=238&oid=417&aid=0000803570\n",
      "https://news.naver.com/main/read.naver?mode=LS2D&mid=shm&sid1=103&sid2=238&oid=025&aid=0003187483\n",
      "https://news.naver.com/main/read.naver?mode=LS2D&mid=shm&sid1=103&sid2=238&oid=025&aid=0003187483\n",
      "https://news.naver.com/main/read.naver?mode=LS2D&mid=shm&sid1=103&sid2=238&oid=366&aid=0000806258\n",
      "https://news.naver.com/main/read.naver?mode=LS2D&mid=shm&sid1=103&sid2=238&oid=366&aid=0000806258\n",
      "https://news.naver.com/main/read.naver?mode=LS2D&mid=shm&sid1=103&sid2=238&oid=366&aid=0000806243\n",
      "https://news.naver.com/main/read.naver?mode=LS2D&mid=shm&sid1=103&sid2=238&oid=366&aid=0000806243\n",
      "https://news.naver.com/main/read.naver?mode=LS2D&mid=shm&sid1=103&sid2=238&oid=018&aid=0005189609\n",
      "https://news.naver.com/main/read.naver?mode=LS2D&mid=shm&sid1=103&sid2=238&oid=018&aid=0005189609\n",
      "https://news.naver.com/main/read.naver?mode=LS2D&mid=shm&sid1=103&sid2=238&oid=366&aid=0000806184\n",
      "https://news.naver.com/main/read.naver?mode=LS2D&mid=shm&sid1=103&sid2=238&oid=366&aid=0000806184\n",
      "https://news.naver.com/main/read.naver?mode=LS2D&mid=shm&sid1=103&sid2=238&oid=366&aid=0000806183\n",
      "https://news.naver.com/main/read.naver?mode=LS2D&mid=shm&sid1=103&sid2=238&oid=366&aid=0000806183\n",
      "https://news.naver.com/main/read.naver?mode=LS2D&mid=shm&sid1=103&sid2=238&oid=366&aid=0000806166\n",
      "https://news.naver.com/main/read.naver?mode=LS2D&mid=shm&sid1=103&sid2=238&oid=366&aid=0000806166\n",
      "https://news.naver.com/main/read.naver?mode=LS2D&mid=shm&sid1=103&sid2=238&oid=366&aid=0000806143\n",
      "https://news.naver.com/main/read.naver?mode=LS2D&mid=shm&sid1=103&sid2=238&oid=366&aid=0000806143\n",
      "https://news.naver.com/main/read.naver?mode=LS2D&mid=shm&sid1=103&sid2=238&oid=119&aid=0002593904\n",
      "https://news.naver.com/main/read.naver?mode=LS2D&mid=shm&sid1=103&sid2=238&oid=119&aid=0002593904\n",
      "https://news.naver.com/main/read.naver?mode=LS2D&mid=shm&sid1=103&sid2=238&oid=011&aid=0004041693\n",
      "https://news.naver.com/main/read.naver?mode=LS2D&mid=shm&sid1=103&sid2=238&oid=011&aid=0004041693\n",
      "https://news.naver.com/main/read.naver?mode=LS2D&mid=shm&sid1=103&sid2=238&oid=366&aid=0000806079\n",
      "https://news.naver.com/main/read.naver?mode=LS2D&mid=shm&sid1=103&sid2=238&oid=366&aid=0000806079\n",
      "https://news.naver.com/main/read.naver?mode=LS2D&mid=shm&sid1=103&sid2=238&oid=366&aid=0000806037\n",
      "https://news.naver.com/main/read.naver?mode=LS2D&mid=shm&sid1=103&sid2=238&oid=366&aid=0000806037\n",
      "https://news.naver.com/main/read.naver?mode=LS2D&mid=shm&sid1=103&sid2=238&oid=366&aid=0000806015\n",
      "https://news.naver.com/main/read.naver?mode=LS2D&mid=shm&sid1=103&sid2=238&oid=366&aid=0000806015\n",
      "https://news.naver.com/main/read.naver?mode=LS2D&mid=shm&sid1=103&sid2=238&oid=366&aid=0000806006\n",
      "https://news.naver.com/main/read.naver?mode=LS2D&mid=shm&sid1=103&sid2=238&oid=366&aid=0000806006\n",
      "https://news.naver.com/main/read.naver?mode=LS2D&mid=shm&sid1=103&sid2=238&oid=366&aid=0000806002\n",
      "https://news.naver.com/main/read.naver?mode=LS2D&mid=shm&sid1=103&sid2=238&oid=366&aid=0000806002\n",
      "https://news.naver.com/main/read.naver?mode=LS2D&mid=shm&sid1=103&sid2=238&oid=366&aid=0000805994\n",
      "https://news.naver.com/main/read.naver?mode=LS2D&mid=shm&sid1=103&sid2=238&oid=366&aid=0000805994\n",
      "https://news.naver.com/main/read.naver?mode=LS2D&mid=shm&sid1=103&sid2=238&oid=366&aid=0000805992\n",
      "https://news.naver.com/main/read.naver?mode=LS2D&mid=shm&sid1=103&sid2=238&oid=366&aid=0000805992\n",
      "https://news.naver.com/main/read.naver?mode=LS2D&mid=shm&sid1=103&sid2=238&oid=366&aid=0000805990\n",
      "https://news.naver.com/main/read.naver?mode=LS2D&mid=shm&sid1=103&sid2=238&oid=366&aid=0000805990\n"
     ]
    }
   ],
   "source": [
    "url = 'https://news.naver.com/main/list.naver?mode=LS2D&mid=shm&sid1=103&sid2=238'  # 생활/문화 의 음식 \n",
    "header =  {'user-agent':'Mozilla/5.0 (Windows NT 10.0; Win64; x64) AppleWebKit/537.36 (KHTML, like Gecko) Chrome/100.0.4896.75 Safari/537.36'}\n",
    "res = requests.get(url,headers = header).text\n",
    "soup = BeautifulSoup(res,'html.parser')\n",
    "links = soup.find_all('a',class_ =None)\n",
    "for a in links:\n",
    "    print(a.get('href'))\n"
   ]
  },
  {
   "cell_type": "code",
   "execution_count": 15,
   "id": "8730d1a3",
   "metadata": {},
   "outputs": [
    {
     "data": {
      "text/plain": [
       "'포켓몬빵 인기에포켓몬코리아 매출 배 껑충  네이버 뉴스메인 메뉴로 바로가기본문으로 바로가기검색뉴스연예스포츠날씨프리미엄언론사별 정치 경제 사회 생활문화 선택됨과학 세계 랭킹 신문보기 오피니언  팩트체크 전체 언론사뉴스스탠드라이브러리목전체 언론사뉴스스탠드라이브러리안내언론사 편집판 바로가기닫기포켓몬빵 인기에포켓몬코리아 매출 배 껑충기사입력  오전 기사원문스크랩스크랩 기능이 종료됩니다네이버  서비스를 이용해주세요자세히 보기레이어 닫기본문듣기설정성별 선택하기선택된 성별남성여성속도 선택하기느림선택된 속도보통빠름설정을 저장하시겠습니까확인취소좋아요좋아요 평가하기공감좋아요훈훈해요슬퍼요화나요후속기사 원해요댓글요약봇본문 요약봇도움말자동 추출 기술로 요약된 내용입니다 요약 기술의 특성상 본문의 주요 내용이 제외될 수 있어전체 맥락을 이해하기 위해서는 기사 본문 전체보기를 권장합니다자동 요약 결과가 어땠나요소중한 의견이 반영되었습니다자동 요약 결과가 어땠나요만족보통불만족닫기글자 크기 변경하기크기가단계가단계가단계가단계가단계글꼴굴림돋움맑은고딕나눔고딕마루부리닫기나눔고딕 폰트가 설치되어있지 않습니다나눔 폰트를 설치하러 가시겠습니까예아니오닫기인쇄하기보내기영업이익당기순이익 등 전년 대비 배가량 증가포켓몬 캐릭터 사용료인 라이선스로열티로 지난해에만 억원 벌어그래픽이은현 삼립이 출시한 포켓몬빵의 캐릭터 라이선스사용권 계약을 체결한 포켓몬코리아의 지난해 매출액이 배 가까이 뛰었다일 금융감독원 전자공시시스템에 따르면 포켓몬코리아의 지난해 매출액은 억원으로 전년 매출억원의 배가량 증가했다영업이익과 당기순이익도 전년 대비 배가량 증가했다 포켓몬코리아는 지난해 영업이익이 억원을 돌파한 억원을 기록했다이는 전년 억원의 영업이익을 기록했던 것과 비교하면 배가량 늘어난 수치다 당기순이익도 억원을 기록하며 전년억원 대비 배 가까이 상승했다포켓몬코리아는 라이선스사용권 계약으로만 년 새 억원 넘게 벌어들였다 지난해 포켓몬코리아의 라이선스 로열티는 억원을 기록했다상품판매수입도 배 가까이 늘어났다 지난해 상품판매수익으로 억원을 벌어들였는데 이는 전년 대비 억원 늘어난 금액이다포켓몬코리아는 지난해 지배회사인 일본 더포켓몬컴퍼니  에 매입 비용으로 억원을 사용했다 매입은 판매를 위한 상품 또는 제품 제조에 필요한 원재료 저장품 등을 구입하는 것을 말한다이는 년 더포켓몬컴퍼니에 억원의 매입 비용을 쓴 것과 비교해 두 배 이상 늘어난 것이다삼립 포켓몬빵 신제품 삼립 제공        국내 유통업체는 포켓몬코리아에 끊임없는 구애를 보내고 있다 포켓몬 애니메이션 속 캐릭터가 그려진 띠부띠부씰떼었다 붙였다 하는 스티커의 품귀현상이 일어나며 매출 상승과 이미지 제고 등 호재로 작용했기 때문이다삼립의 경우 지난해 포켓몬코리아와 라이선스 계약을 맺고 포켓몬빵을 판매 중이다 삼립이 포켓몬코리아에 제공하는 라이선스 로열티의 경우  미만으로 알려졌지만 자세한 수치는 공개되지 않았다일 기준 삼립의 포켓몬빵 시리즈 판매량은 만개를 넘었다 전 국민 명 중 한 명이 포켓몬빵을 산 것과 마찬가지다지난 일에는 포켓몬빵 시즌인 신제품 종피카츄 망고 컵케익 푸린의 피치피치슈 피카피카 달콤 앙버터샌드 발챙이의 빙글빙글 밀크요팡을 출시하기도 했다일부 중고거래 플랫폼에서 포켓몬빵 안에 들어간 인기 캐릭터 스티커가 수십만원에 거래되는 등 인기를 이어가고 있다롯데마트 토이저러스가 오는 일 단독 출시하는 포켓몬스터 스낵 종 롯데마트        롯데마트의 장난감 전문 매장 토이저러스 역시 포켓몬코리아와 라이선스계약을 맺고 포켓몬 스티커를 포함한 스낵을 이날 선보일 예정이다유통업계는 포켓몬코리아의 지난해 실적에는 포켓몬 애니메이션 캐릭터 라이선스사용권 계약 건만 포함된 만큼 본격적으로 포켓몬빵이 판매된 올해 실적은 더 상승할 것으로 내다봤다        이신혜 기자     기자 프로필이신혜 기자                                                구독                                        이신혜 기자의 구독을 취소하시겠습니까구독에서 해당 기자의 기사가 제외됩니다예아니오닫기구독자응원수잘 듣고 잘 묻고 잘 적겠습니다                                            년에 박 이상 호텔 투숙 생활의 달인에서도 연락왔죠 여기어때 콘텐츠마케팅팀                                                                                무신사 가품 논란 병행수입 명품 플랫폼 불똥튈라 노심초사                                    펼치기              조선비즈    무단 전재 및 재배포 금지        이 기사는 언론사에서 생활 섹션으로 분류했습니다기사 섹션 분류 안내기사의 섹션 정보는 해당 언론사의 분류를 따르고 있습니다 언론사는 개별 기사를 개 이상 섹션으로 중복 분류할 수 있습니다닫기 네이버에서 명품 경제뉴스 조선비즈를 구독하세요  에서 화제가 된 뉴스를 지금 바로 확인해보세요 좋아요훈훈해요슬퍼요화나요후속기사 원해요이 기사를 추천합니다안내보내기조선비즈 주요뉴스해당 언론사에서 선정하며 언론사 페이지아웃링크로 이동해 볼 수 있습니다미래가치  삼표 성수공장 부지에 쏠린 시선더 싸게  진격에 놀란 삼성 달라졌다년새 가격 배 치솟는 팜오일 가격에 잭팟 터진 곳만년전 기후 분석해 인간 진화 수수께끼 풀었다우크라정책가격 삼박자에 다시 떠오르는  기사 모아보기조선비즈 기사제공 조선비즈 기사목록인쇄스크랩음식맛집 기사목록 전체보기포켓몬빵 인기에포켓몬코리아 매출 배 껑충포토맛집로드 구수한 건강 별미가 된 애환의 음식 막국수 포토쿠킹 금주법 시대를 추억하며 은밀한 칵테일 한 잔 포토조선비즈 랭킹 뉴스바로가기오전 시오전 시까지 집계한 결과입니다지금은 억 미래가치는 조원 삼표 성수공장 부 시간전이은해가 챙긴 남편 국민연금 만원 유죄 확정되면  시간전코로나 재확산 심상찮네  대중교통 마스크 의무화  시간전  진격에 화들짝 놀란 삼성엘지 시간전 우크라이나에 조원 규모 무기 지원 돈바스 폭풍전 시간전분야별 주요뉴스 단독 복지장관 후보 딸아들 아빠 병원서 봉사활동도부모 찬스 논란  차 조각 한동훈 파격 아닌 최적임자종합보  단독 차 내각 인선에도 안철수계 없어측 남은 두자리도 추천 안할것  뉴욕 지하철 총격 사건 용의자 체포여성인종 관련 전방위 혐오 드러내  바이든 올봄 쿼드 정상회의 참석차 방일 희망도 참석 가능성   규제에 대출 막혔다고으로 뚫었다  단독 현산 개월 영업정지 처분억 과징금 대체 가능하다 왜  분기 어닝시즌 반등으로 시작나스닥 뉴욕마감  단독 게임도 네이버의 미래 년만에 재진출 시동  슈퍼컴이 만년전 기후 분석인류는 하이델베르크인서 진화  오늘부터 세 이상 차접종확진자도 가능  김오수 대통령에게 검수완박 면담 요청 초강수검란으로 번질 조짐도  명 결집한 민노총  개혁 규탄하며 게릴라식 집회 강행  단독정보라 저주 토끼  대형 출판그룹 아셰트에 만 달러 판권 계약  전국 곳곳서 봄비 이어져미세먼지 좋음 언론사별 가장 많이 본 뉴스안내각 언론사의 가장 많이 본 기사 건을 제공합니다 닫기오전 시오전 시까지 집계한 결과입니다단독 대권병 걸렸나 본인 집 살라정부 공관 중앙일보 면제는 손흥민과 다르다 이대남 항의문자 보내 머니투데이단독한국 론스타에 패소땐  정부 관료들 책임론 동아일보동영상기사이제 수사는 잊어라 일찌감치 한동훈 낙점채널몽 인천공항 세관에 적발 만 달러 반출 신고 안  조선일보인터뷰 구청장 도전 방송인 유정현 정치소신 안버 더팩트동영상기사단독 안철수 내각 인선 반발해 과 만찬 취소하고 귀 조선문재인 정부 좌천 반복하던 한동훈 법무장관 지명에 파 문화일보동영상기사일면식 없는 두 부부에게 흉기 난동여성 명 사망연합뉴스영상칼들고 쫓아와 천안 부부모임 말다툼 후 흉기  이데일리마스크 벗긴 글렀나코로나 재확산 경고음 점점 커진다서울경제동영상기사단독 몽 신고 없이 만 달러 들고 나가려다 송치한동훈 법무부 장관 임명에  충격과 당혹전혀 예상 못 노컷뉴스지금은 억 미래가치는 조원 삼표 성수공장 부 조선비즈양준혁 음주운전 강정호 복귀 반대선수 생활 못하게  매일경제동영상기사단독 아파트 채에 빚 청산까지증거인멸 의혹도 미국행 비행기표 예매하려다 당황한숨만 나와요한국경제만취 운전 차량에 열다섯 살 중학생은 영영 귀가하지 못했 부산일보정치인만 아니면 좋다던 검찰총장 기수 밑 한동훈에  한겨레뉴욕증시 기업실적 호조 나스닥 비트코인   한국경제빈민촌으로 이사한 대통령 덕에동네가 달라졌어요경향신문김동연   김은혜 김동연   뉴스한동훈 박범계추미애 해악 박범계 왜 그러시나국민일보러 국방부 러 시설 공격당하면 우크라 수도 지휘센터 등  연합뉴스러군 여친 통화서 우크라 여성은 성폭행해도 돼콘돔만  뉴시스윤석열 당선인 유퀴즈 출연해 유재석 만났다일 방 동영상기사사소한 시비에 흉기 난동여성 명 숨져동영상기사너희 회사 이상해친구의 의심이 피싱 범죄 막았다동영상기사상하이 봉쇄 완화 뒤 감염자 역대 최다 물류  서민 교수 폭탄 발언 문재인 이재명 검수완박 논란  디지털타임스윤석열 내각에 강원도는 없었다강원일보속보 러시아 본토 철교 파괴자국민 죽이고 우크라 탓 서울신문김건희 여사 조민 입학취소 부당  글에 좋아요 파이낸셜뉴스이 분 출연료만 억원 넘는다는데 쿠팡 게스트 헤럴드경제한국은 우크라에 관심이 없다 빈 좌석 보라젤렌스키  아시아경제아빠가 경북대병원 원장 아들딸 잇따라 경대 의대 편 매일신문전문가 백신 접종하고 뜻하지 않게 발생한 부작용 보상부터 세계일보세 이하 자산 억 이상 영리치 연봉 억 부동 머니오컬쳐급여배당금 올인하는 장현국 위믹스 살리기 블로터이준석과 맞짱토론 나선 박경석의 긴 하루 사실 무섭다오마이뉴스 디스플레이 역습  세계 위 내줬다전자신문한동훈 법무장관 지명 윤석열표 공정 흔든 충격 인사한국일보올해 나올 애플워치 어떻게 나올까 포켓몬빵 로열티 일본으로 간다소식에 네티즌 노재팬 잊었 데일리안전직  드라마가 폭로한 비인간적 제작 환경미디어오늘집단면역 언급했다가 하루새 말바꾼 정부해외전문가 집 동아사이언스잘 갔다 올게라는 남편의 말은 유언이 됐다프레시안정부 코로나 집단면역 어려워소규모 유행 반복아이뉴스폐암 안 걸리는 흡연자비밀은 이것코메디닷컴윤석열 내각 진용 봤더니깜짝 발탁에 가려진 측근 기 시사저널콧물 줄줄 목 간질 아무리 검사해도 코로나 아니라면헬스조선공수처 윤석열 불기소는 정치적 결정 임은정 재정신청뉴스타파윤석열 시대 부동산 시장 어디로매경이코노미동영상기사전세계 인플레 몸살에 긴축 속도총재 없는 금통위 금  피에이치씨 코로나 신속항원진단키트 식약처 정식 허 디지털데일리기자들 코로나 확진됐는데도 일 해야한다니기자협회보미얀마 최전방에서는 무슨 일이 있었나시사승부만 남은 혐오 게임 이준석에게 남는 것은한겨레드디어 반등하나 삼성전자 외인 매수에 대 증시이슈 이코노미스트      코리아헤럴드러시아 국방부 마리우폴 해병여단 명 항복조세일보시작보다 훨씬 힘든 끝콩코드 효과로 본 삼성 한경비즈니스내셔널지오그래픽 아빠가 주식 사라고 매번 억억씩 돈 비즈니스워치아마존에 없는 것만 판다 온라인 핸드메이드 장터 엣시주간동아남편에게 배란일 알리지 말고 리비도 따르라신동아박풍 부는 대구 난처해진 홍준표주간조선      코리아중앙데일리제주 어디까지 아세요노꼬메오름 초보 입문용 오름이지 월간 산페미니즘이란 차이를 드러내는 것이다일다윤석열 정부 기 내각 여성 장관은 누구 김현숙이영한 여성신문러시아 우크라이나 베트남의 고민우리가 모르는 베트남 주간경향대전 도시철도 호선 트램 내년도 첫삽 목표로 속도대전일보단독 국힘 강원도지사 후보 황상무 전략공천설에 김진태  강원도민일보동영상기사가계대출 급감에 금리 낮춘 은행들청주방송동영상기사뉴스플러스 검수완박 강행 민주당은 왜대구센텀지구 열쇠 풍산 이전 문제 지방선거 이후 풀릴까국제신문코로나로 폐쇄된 학교 운동장 재개방전주뉴욕 지하철 총격 사건 용의자 하루 만에 붙잡혀광주방송동영상기사영상입 발 묶인 채 발견된 강아지도 넘은 동물 네트웍스 전기차 등 친환경 투자 가속도중앙코로나로 폐쇄된 학교 운동장 재개방전주뉴욕 지하철 총격 사건 용의자 하루 만에 붙잡혀광주방송동영상기사영상입 발 묶인 채 발견된 강아지도 넘은 동물 네트웍스 전기차 등 친환경 투자 가속도중앙아직 끝나지 않았다 벚꽃엔딩 끝을 잡은 호텔 패키지레이디경향더보기    욕설 댓글 리마인드 팝업상처 없는 댓글 세상 만들기에 많은 참여 부탁드립니다확인이젠 페이지맨위로언론사 목록열기로딩 중분야별 목록열기로딩 중마이스크랩이용약관서비스 안내기사배열 원칙 책임자  유봉석청소년 보호 책임자  이희만개인정보처리방침책임의 한계와 법적고지뉴스 고객센터본 콘텐츠의 저작권은 제공처 또는 네이버에 있으며 이를 무단 이용하는 경우 저작권법 등에 따라 법적책임을 질 수 있습니다  조선비즈       '"
      ]
     },
     "execution_count": 15,
     "metadata": {},
     "output_type": "execute_result"
    }
   ],
   "source": [
    "link = 'https://news.naver.com/main/read.naver?mode=LS2D&mid=shm&sid1=103&sid2=238&oid=366&aid=0000806279'\n",
    "# ‘포켓몬빵’ 인기에...포켓몬코리아 매출 3배 ‘껑충’ 부분 (매 시간 변경됨)\n",
    "res = requests.get(link,headers = header).text\n",
    "soup = BeautifulSoup(res,'html.parser')\n",
    "news = soup.text\n",
    "news = re.sub('\\n','',news)\n",
    "news = re.sub('\\t','',news)\n",
    "news = re.sub(r'[^ ㄱ-ㅣ가-힣]', '', news)\n",
    "news"
   ]
  },
  {
   "cell_type": "code",
   "execution_count": 16,
   "id": "1815903c",
   "metadata": {},
   "outputs": [
    {
     "data": {
      "text/html": [
       "<div>\n",
       "<style scoped>\n",
       "    .dataframe tbody tr th:only-of-type {\n",
       "        vertical-align: middle;\n",
       "    }\n",
       "\n",
       "    .dataframe tbody tr th {\n",
       "        vertical-align: top;\n",
       "    }\n",
       "\n",
       "    .dataframe thead th {\n",
       "        text-align: right;\n",
       "    }\n",
       "</style>\n",
       "<table border=\"1\" class=\"dataframe\">\n",
       "  <thead>\n",
       "    <tr style=\"text-align: right;\">\n",
       "      <th></th>\n",
       "      <th>news_text</th>\n",
       "      <th>category</th>\n",
       "    </tr>\n",
       "  </thead>\n",
       "  <tbody>\n",
       "  </tbody>\n",
       "</table>\n",
       "</div>"
      ],
      "text/plain": [
       "Empty DataFrame\n",
       "Columns: [news_text, category]\n",
       "Index: []"
      ]
     },
     "execution_count": 16,
     "metadata": {},
     "output_type": "execute_result"
    }
   ],
   "source": [
    "news_df = pd.DataFrame(columns = ['news_text','category'])\n",
    "news_df"
   ]
  },
  {
   "cell_type": "code",
   "execution_count": 18,
   "id": "91871d0c",
   "metadata": {},
   "outputs": [
    {
     "name": "stdout",
     "output_type": "stream",
     "text": [
      "10\n"
     ]
    },
    {
     "data": {
      "text/html": [
       "<div>\n",
       "<style scoped>\n",
       "    .dataframe tbody tr th:only-of-type {\n",
       "        vertical-align: middle;\n",
       "    }\n",
       "\n",
       "    .dataframe tbody tr th {\n",
       "        vertical-align: top;\n",
       "    }\n",
       "\n",
       "    .dataframe thead th {\n",
       "        text-align: right;\n",
       "    }\n",
       "</style>\n",
       "<table border=\"1\" class=\"dataframe\">\n",
       "  <thead>\n",
       "    <tr style=\"text-align: right;\">\n",
       "      <th></th>\n",
       "      <th>news_text</th>\n",
       "      <th>category</th>\n",
       "    </tr>\n",
       "  </thead>\n",
       "  <tbody>\n",
       "    <tr>\n",
       "      <th>0</th>\n",
       "      <td>제네시스 X 스피디움 쿠페 콘셉트/사진제공=제네시스제네시스는 13일(현지시간) 뉴욕...</td>\n",
       "      <td>103</td>\n",
       "    </tr>\n",
       "    <tr>\n",
       "      <th>1</th>\n",
       "      <td>'제네시스 하우스'서 새로운 콘셉트로 전기차 디자인 방향성 공유제네시스 엑스 스피디...</td>\n",
       "      <td>103</td>\n",
       "    </tr>\n",
       "    <tr>\n",
       "      <th>2</th>\n",
       "      <td>파라메트릭 실드 적용 그릴로 더 단단한 인상디지털 센터 미러·에르고 모션시트 편의 ...</td>\n",
       "      <td>103</td>\n",
       "    </tr>\n",
       "    <tr>\n",
       "      <th>3</th>\n",
       "      <td>현대자동차가 13일(현지시간) ‘2022 뉴욕 국제 오토쇼’에서 더 뉴 팰리세이드D...</td>\n",
       "      <td>103</td>\n",
       "    </tr>\n",
       "    <tr>\n",
       "      <th>4</th>\n",
       "      <td>[서울=뉴시스]13일(현지시각) 미국 뉴욕 제이콥 재비츠 컨벤션 센터에서 열린 '2...</td>\n",
       "      <td>103</td>\n",
       "    </tr>\n",
       "    <tr>\n",
       "      <th>5</th>\n",
       "      <td>제네시스가 13일(현지시간) 뉴욕 맨해튼 미트패킹 디스트릭트에 위치한 브랜드 복합문...</td>\n",
       "      <td>103</td>\n",
       "    </tr>\n",
       "    <tr>\n",
       "      <th>6</th>\n",
       "      <td>“이게 K-플래그십”…현대차, `더 뉴 팰리세이드` 뉴욕서 최초 공개 [사진제공=현...</td>\n",
       "      <td>103</td>\n",
       "    </tr>\n",
       "    <tr>\n",
       "      <th>7</th>\n",
       "      <td>제네시스하우스 디자인 나이트서 콘셉트 공개차량 형태·체급 정의되지 않은 실험적 모델...</td>\n",
       "      <td>103</td>\n",
       "    </tr>\n",
       "    <tr>\n",
       "      <th>8</th>\n",
       "      <td>이승준 감독이 연출한 다큐 ‘그대가 조국’이 내달 1일 전주국제영화제에서 최초로...</td>\n",
       "      <td>103</td>\n",
       "    </tr>\n",
       "    <tr>\n",
       "      <th>9</th>\n",
       "      <td>다큐멘터리 영화, 새달 1일 전주서 첫 상영2019년 조국 전 법무부 장관 지명부터...</td>\n",
       "      <td>103</td>\n",
       "    </tr>\n",
       "  </tbody>\n",
       "</table>\n",
       "</div>"
      ],
      "text/plain": [
       "                                           news_text  category\n",
       "0  제네시스 X 스피디움 쿠페 콘셉트/사진제공=제네시스제네시스는 13일(현지시간) 뉴욕...       103\n",
       "1  '제네시스 하우스'서 새로운 콘셉트로 전기차 디자인 방향성 공유제네시스 엑스 스피디...       103\n",
       "2  파라메트릭 실드 적용 그릴로 더 단단한 인상디지털 센터 미러·에르고 모션시트 편의 ...       103\n",
       "3  현대자동차가 13일(현지시간) ‘2022 뉴욕 국제 오토쇼’에서 더 뉴 팰리세이드D...       103\n",
       "4  [서울=뉴시스]13일(현지시각) 미국 뉴욕 제이콥 재비츠 컨벤션 센터에서 열린 '2...       103\n",
       "5  제네시스가 13일(현지시간) 뉴욕 맨해튼 미트패킹 디스트릭트에 위치한 브랜드 복합문...       103\n",
       "6  “이게 K-플래그십”…현대차, `더 뉴 팰리세이드` 뉴욕서 최초 공개 [사진제공=현...       103\n",
       "7  제네시스하우스 디자인 나이트서 콘셉트 공개차량 형태·체급 정의되지 않은 실험적 모델...       103\n",
       "8    이승준 감독이 연출한 다큐 ‘그대가 조국’이 내달 1일 전주국제영화제에서 최초로...       103\n",
       "9  다큐멘터리 영화, 새달 1일 전주서 첫 상영2019년 조국 전 법무부 장관 지명부터...       103"
      ]
     },
     "execution_count": 18,
     "metadata": {},
     "output_type": "execute_result"
    }
   ],
   "source": [
    "url = 'https://news.naver.com/main/main.naver?mode=LSD&mid=shm&sid1=103#&date=%2000:00:00&page=1'\n",
    "headers = {'User-Agent': 'Mozilla/5.0 (Windows NT 10.0; Win64; x64) AppleWebKit/537.36 (KHTML, like Gecko) Chrome/100.0.4896.88 Safari/537.36'}\n",
    "news = requests.get(url, headers=headers)\n",
    "soup = BeautifulSoup(news.text,'html.parser')\n",
    "links = soup.select(' #main_content > div > div > div> div > div> ul > li > div > a')\n",
    "newslinks = []\n",
    "for i, a in enumerate(links):\n",
    "    if i < 10:\n",
    "        newslink = a.get('href')\n",
    "        newslinks.append(newslink)\n",
    "    \n",
    "newslinks = list(set(newslinks))\n",
    "print(len(newslinks))\n",
    "\n",
    "cat = 103\n",
    "ind = 0\n",
    "for link in newslinks:\n",
    "    res = requests.get(link,headers = headers).text\n",
    "    soup = BeautifulSoup(res,'html.parser')\n",
    "    news = soup.find('div',id = \"articleBodyContents\").text\n",
    "    \n",
    "    news = re.sub('\\n','',news)\n",
    "    news = re.sub('\\t','',news)\n",
    "    news_df.loc[ind] = [news,cat]\n",
    "    ind += 1\n",
    "    \n",
    "news_df   \n"
   ]
  },
  {
   "cell_type": "markdown",
   "id": "27d00727",
   "metadata": {},
   "source": [
    "## 카테고리 뉴스 기사 크롤링 "
   ]
  },
  {
   "cell_type": "code",
   "execution_count": 4,
   "id": "b4c7c790",
   "metadata": {},
   "outputs": [
    {
     "data": {
      "text/html": [
       "<div>\n",
       "<style scoped>\n",
       "    .dataframe tbody tr th:only-of-type {\n",
       "        vertical-align: middle;\n",
       "    }\n",
       "\n",
       "    .dataframe tbody tr th {\n",
       "        vertical-align: top;\n",
       "    }\n",
       "\n",
       "    .dataframe thead th {\n",
       "        text-align: right;\n",
       "    }\n",
       "</style>\n",
       "<table border=\"1\" class=\"dataframe\">\n",
       "  <thead>\n",
       "    <tr style=\"text-align: right;\">\n",
       "      <th></th>\n",
       "      <th>news_text</th>\n",
       "      <th>category</th>\n",
       "    </tr>\n",
       "  </thead>\n",
       "  <tbody>\n",
       "  </tbody>\n",
       "</table>\n",
       "</div>"
      ],
      "text/plain": [
       "Empty DataFrame\n",
       "Columns: [news_text, category]\n",
       "Index: []"
      ]
     },
     "execution_count": 4,
     "metadata": {},
     "output_type": "execute_result"
    }
   ],
   "source": [
    "news_df = pd.DataFrame(columns = ['news_text','category'])\n",
    "news_df"
   ]
  },
  {
   "cell_type": "code",
   "execution_count": 23,
   "id": "2a25b612",
   "metadata": {},
   "outputs": [
    {
     "data": {
      "text/html": [
       "<div>\n",
       "<style scoped>\n",
       "    .dataframe tbody tr th:only-of-type {\n",
       "        vertical-align: middle;\n",
       "    }\n",
       "\n",
       "    .dataframe tbody tr th {\n",
       "        vertical-align: top;\n",
       "    }\n",
       "\n",
       "    .dataframe thead th {\n",
       "        text-align: right;\n",
       "    }\n",
       "</style>\n",
       "<table border=\"1\" class=\"dataframe\">\n",
       "  <thead>\n",
       "    <tr style=\"text-align: right;\">\n",
       "      <th></th>\n",
       "      <th>news_text</th>\n",
       "      <th>category</th>\n",
       "    </tr>\n",
       "  </thead>\n",
       "  <tbody>\n",
       "    <tr>\n",
       "      <th>0</th>\n",
       "      <td>방송인 김어준 씨가 13일 윤석열 대통령 당선인이 법무부 장관 후보로 한동훈 검사장...</td>\n",
       "      <td>100</td>\n",
       "    </tr>\n",
       "    <tr>\n",
       "      <th>1</th>\n",
       "      <td>일부 외국인 세대, 다주택이면서 1주택 위장해 양도세 탈루국내 거주 외국인 주택투기...</td>\n",
       "      <td>100</td>\n",
       "    </tr>\n",
       "    <tr>\n",
       "      <th>2</th>\n",
       "      <td>조국 \"한동훈 왕장관\" 이유 6가지 주장허은아, '조국'으로 이름 바꿔 되치기조국 ...</td>\n",
       "      <td>100</td>\n",
       "    </tr>\n",
       "    <tr>\n",
       "      <th>3</th>\n",
       "      <td>민주당과 국민의힘이 오는 6월 지방선거에서 기초의원 중대선거구제를 시범실시하기로 합...</td>\n",
       "      <td>100</td>\n",
       "    </tr>\n",
       "    <tr>\n",
       "      <th>4</th>\n",
       "      <td>기사내용 요약\"안철수, 불쾌한 거 없는 걸로 알아…무슨 생각인지\"\"내각 인선 과정 ...</td>\n",
       "      <td>100</td>\n",
       "    </tr>\n",
       "    <tr>\n",
       "      <th>...</th>\n",
       "      <td>...</td>\n",
       "      <td>...</td>\n",
       "    </tr>\n",
       "    <tr>\n",
       "      <th>6899</th>\n",
       "      <td>스타벅스 노조[AP 연합뉴스 자료사진. 재판매 및 DB 금지]    (서울=연합뉴스...</td>\n",
       "      <td>104</td>\n",
       "    </tr>\n",
       "    <tr>\n",
       "      <th>6900</th>\n",
       "      <td>[경향신문] 조 바이든 미국 대통령. AP연합뉴스미국 최고위급 인사가 러시아의 침공...</td>\n",
       "      <td>104</td>\n",
       "    </tr>\n",
       "    <tr>\n",
       "      <th>6901</th>\n",
       "      <td>니혼게이자이신문 “尹, 쿼드 정상회의 옵서버 참석 비공식 타진” 인수위 사무실 나서...</td>\n",
       "      <td>104</td>\n",
       "    </tr>\n",
       "    <tr>\n",
       "      <th>6902</th>\n",
       "      <td>11일(현지시간) 우크라이나 동부 루한스크 전선에 배치된 우크라이나 병사들이 참호 ...</td>\n",
       "      <td>104</td>\n",
       "    </tr>\n",
       "    <tr>\n",
       "      <th>6903</th>\n",
       "      <td>[서울=뉴시스] 최동준 기자 = 일본 엔화 가치가 하락하면서 엔화당 원화값이 3년 ...</td>\n",
       "      <td>104</td>\n",
       "    </tr>\n",
       "  </tbody>\n",
       "</table>\n",
       "<p>6904 rows × 2 columns</p>\n",
       "</div>"
      ],
      "text/plain": [
       "                                              news_text  category\n",
       "0     방송인 김어준 씨가 13일 윤석열 대통령 당선인이 법무부 장관 후보로 한동훈 검사장...       100\n",
       "1     일부 외국인 세대, 다주택이면서 1주택 위장해 양도세 탈루국내 거주 외국인 주택투기...       100\n",
       "2     조국 \"한동훈 왕장관\" 이유 6가지 주장허은아, '조국'으로 이름 바꿔 되치기조국 ...       100\n",
       "3     민주당과 국민의힘이 오는 6월 지방선거에서 기초의원 중대선거구제를 시범실시하기로 합...       100\n",
       "4     기사내용 요약\"안철수, 불쾌한 거 없는 걸로 알아…무슨 생각인지\"\"내각 인선 과정 ...       100\n",
       "...                                                 ...       ...\n",
       "6899  스타벅스 노조[AP 연합뉴스 자료사진. 재판매 및 DB 금지]    (서울=연합뉴스...       104\n",
       "6900  [경향신문] 조 바이든 미국 대통령. AP연합뉴스미국 최고위급 인사가 러시아의 침공...       104\n",
       "6901  니혼게이자이신문 “尹, 쿼드 정상회의 옵서버 참석 비공식 타진” 인수위 사무실 나서...       104\n",
       "6902  11일(현지시간) 우크라이나 동부 루한스크 전선에 배치된 우크라이나 병사들이 참호 ...       104\n",
       "6903  [서울=뉴시스] 최동준 기자 = 일본 엔화 가치가 하락하면서 엔화당 원화값이 3년 ...       104\n",
       "\n",
       "[6904 rows x 2 columns]"
      ]
     },
     "execution_count": 23,
     "metadata": {},
     "output_type": "execute_result"
    }
   ],
   "source": [
    "cats=[100,101,103,105,104]\n",
    "ind = 0\n",
    "for cat in cats:   \n",
    "    for i in range(50):\n",
    "        \n",
    "        url = 'https://news.naver.com/main/main.naver?mode=LSD&mid=shm&sid1='+str(cat)+'&date=%2000:00:00&page='+str(i+1)\n",
    "        headers = {'User-Agent': 'Mozilla/5.0 (Windows NT 10.0; Win64; x64) AppleWebKit/537.36 (KHTML, like Gecko) Chrome/100.0.4896.88 Safari/537.36'}\n",
    "        news = requests.get(url, headers=headers)\n",
    "        soup = BeautifulSoup(news.text,'html.parser')\n",
    "        links = soup.select(' #main_content > div > div > div> div > div> ul > li > div > a')\n",
    "        # 첫번째 뉴스,두번쨰 세번째 넘버링 하기 위해 enumerate사용\n",
    "        #주소를 가져온 뒤 거기서 id로 준 값에 해당하는 내용 추출\n",
    "        newslinks=[]\n",
    "        for j, a in enumerate(links):            \n",
    "            newslink = a.get('href')\n",
    "            newslinks.append(newslink)\n",
    "            newslinks = list(set(newslinks))        \n",
    "        \n",
    "        for link in newslinks:\n",
    "            res2 = requests.get(link,headers = headers).text\n",
    "            soup2 = BeautifulSoup(res2,'html.parser')\n",
    "            news = soup2.find('div',id = \"articleBodyContents\").text\n",
    "            news = re.sub('\\n','',news)\n",
    "            news = re.sub('\\t','',news)\n",
    "            news_df.loc[ind] = [news,cat]\n",
    "            ind += 1\n",
    "news_df"
   ]
  },
  {
   "cell_type": "code",
   "execution_count": 24,
   "id": "28e7e026",
   "metadata": {},
   "outputs": [],
   "source": [
    "news_df.to_csv('news_dfp.csv',mode='w')"
   ]
  },
  {
   "cell_type": "code",
   "execution_count": 25,
   "id": "e8a33b0c",
   "metadata": {},
   "outputs": [
    {
     "data": {
      "text/plain": [
       "(6904, 2)"
      ]
     },
     "execution_count": 25,
     "metadata": {},
     "output_type": "execute_result"
    }
   ],
   "source": [
    "n_df = pd.read_csv('news_dfp.csv',index_col=0)\n",
    "n_df.shape"
   ]
  },
  {
   "cell_type": "code",
   "execution_count": 26,
   "id": "4794150c",
   "metadata": {},
   "outputs": [
    {
     "data": {
      "text/html": [
       "<div>\n",
       "<style scoped>\n",
       "    .dataframe tbody tr th:only-of-type {\n",
       "        vertical-align: middle;\n",
       "    }\n",
       "\n",
       "    .dataframe tbody tr th {\n",
       "        vertical-align: top;\n",
       "    }\n",
       "\n",
       "    .dataframe thead th {\n",
       "        text-align: right;\n",
       "    }\n",
       "</style>\n",
       "<table border=\"1\" class=\"dataframe\">\n",
       "  <thead>\n",
       "    <tr style=\"text-align: right;\">\n",
       "      <th></th>\n",
       "      <th>news_text</th>\n",
       "      <th>category</th>\n",
       "    </tr>\n",
       "  </thead>\n",
       "  <tbody>\n",
       "    <tr>\n",
       "      <th>0</th>\n",
       "      <td>방송인 김어준 씨가 13일 윤석열 대통령 당선인이 법무부 장관 후보로 한동훈 검사장...</td>\n",
       "      <td>100</td>\n",
       "    </tr>\n",
       "    <tr>\n",
       "      <th>1</th>\n",
       "      <td>일부 외국인 세대, 다주택이면서 1주택 위장해 양도세 탈루국내 거주 외국인 주택투기...</td>\n",
       "      <td>100</td>\n",
       "    </tr>\n",
       "    <tr>\n",
       "      <th>2</th>\n",
       "      <td>조국 \"한동훈 왕장관\" 이유 6가지 주장허은아, '조국'으로 이름 바꿔 되치기조국 ...</td>\n",
       "      <td>100</td>\n",
       "    </tr>\n",
       "    <tr>\n",
       "      <th>3</th>\n",
       "      <td>민주당과 국민의힘이 오는 6월 지방선거에서 기초의원 중대선거구제를 시범실시하기로 합...</td>\n",
       "      <td>100</td>\n",
       "    </tr>\n",
       "    <tr>\n",
       "      <th>4</th>\n",
       "      <td>기사내용 요약\"안철수, 불쾌한 거 없는 걸로 알아…무슨 생각인지\"\"내각 인선 과정 ...</td>\n",
       "      <td>100</td>\n",
       "    </tr>\n",
       "  </tbody>\n",
       "</table>\n",
       "</div>"
      ],
      "text/plain": [
       "                                           news_text  category\n",
       "0  방송인 김어준 씨가 13일 윤석열 대통령 당선인이 법무부 장관 후보로 한동훈 검사장...       100\n",
       "1  일부 외국인 세대, 다주택이면서 1주택 위장해 양도세 탈루국내 거주 외국인 주택투기...       100\n",
       "2  조국 \"한동훈 왕장관\" 이유 6가지 주장허은아, '조국'으로 이름 바꿔 되치기조국 ...       100\n",
       "3  민주당과 국민의힘이 오는 6월 지방선거에서 기초의원 중대선거구제를 시범실시하기로 합...       100\n",
       "4  기사내용 요약\"안철수, 불쾌한 거 없는 걸로 알아…무슨 생각인지\"\"내각 인선 과정 ...       100"
      ]
     },
     "execution_count": 26,
     "metadata": {},
     "output_type": "execute_result"
    }
   ],
   "source": [
    "n_df.head()"
   ]
  },
  {
   "cell_type": "code",
   "execution_count": 27,
   "id": "466abb3b",
   "metadata": {},
   "outputs": [
    {
     "data": {
      "text/plain": [
       "100    2000\n",
       "101    1500\n",
       "104    1404\n",
       "103    1000\n",
       "105    1000\n",
       "Name: category, dtype: int64"
      ]
     },
     "execution_count": 27,
     "metadata": {},
     "output_type": "execute_result"
    }
   ],
   "source": [
    "n_df.category.value_counts()"
   ]
  },
  {
   "cell_type": "code",
   "execution_count": 29,
   "id": "7984c392",
   "metadata": {},
   "outputs": [],
   "source": [
    "n_df_100 = n_df[n_df.category==100][:800]\n",
    "n_df_101 = n_df[n_df.category==101][:800]\n",
    "n_df_103 = n_df[n_df.category==103][:800]\n",
    "n_df_105 = n_df[n_df.category==105][:800]"
   ]
  },
  {
   "cell_type": "code",
   "execution_count": 30,
   "id": "defb61b2",
   "metadata": {},
   "outputs": [
    {
     "data": {
      "text/plain": [
       "(3200, 2)"
      ]
     },
     "execution_count": 30,
     "metadata": {},
     "output_type": "execute_result"
    }
   ],
   "source": [
    "import pandas as pd\n",
    "news_df = pd.concat([n_df_100,n_df_101,n_df_103,n_df_105],axis=0)\n",
    "news_df.shape"
   ]
  },
  {
   "cell_type": "code",
   "execution_count": 31,
   "id": "7e7b0853",
   "metadata": {},
   "outputs": [
    {
     "data": {
      "text/html": [
       "<div>\n",
       "<style scoped>\n",
       "    .dataframe tbody tr th:only-of-type {\n",
       "        vertical-align: middle;\n",
       "    }\n",
       "\n",
       "    .dataframe tbody tr th {\n",
       "        vertical-align: top;\n",
       "    }\n",
       "\n",
       "    .dataframe thead th {\n",
       "        text-align: right;\n",
       "    }\n",
       "</style>\n",
       "<table border=\"1\" class=\"dataframe\">\n",
       "  <thead>\n",
       "    <tr style=\"text-align: right;\">\n",
       "      <th></th>\n",
       "      <th>news_text</th>\n",
       "      <th>category</th>\n",
       "    </tr>\n",
       "  </thead>\n",
       "  <tbody>\n",
       "    <tr>\n",
       "      <th>0</th>\n",
       "      <td>방송인 김어준 씨가 13일 윤석열 대통령 당선인이 법무부 장관 후보로 한동훈 검사장...</td>\n",
       "      <td>100</td>\n",
       "    </tr>\n",
       "    <tr>\n",
       "      <th>1</th>\n",
       "      <td>일부 외국인 세대, 다주택이면서 1주택 위장해 양도세 탈루국내 거주 외국인 주택투기...</td>\n",
       "      <td>100</td>\n",
       "    </tr>\n",
       "    <tr>\n",
       "      <th>2</th>\n",
       "      <td>조국 \"한동훈 왕장관\" 이유 6가지 주장허은아, '조국'으로 이름 바꿔 되치기조국 ...</td>\n",
       "      <td>100</td>\n",
       "    </tr>\n",
       "    <tr>\n",
       "      <th>3</th>\n",
       "      <td>민주당과 국민의힘이 오는 6월 지방선거에서 기초의원 중대선거구제를 시범실시하기로 합...</td>\n",
       "      <td>100</td>\n",
       "    </tr>\n",
       "    <tr>\n",
       "      <th>4</th>\n",
       "      <td>기사내용 요약\"안철수, 불쾌한 거 없는 걸로 알아…무슨 생각인지\"\"내각 인선 과정 ...</td>\n",
       "      <td>100</td>\n",
       "    </tr>\n",
       "  </tbody>\n",
       "</table>\n",
       "</div>"
      ],
      "text/plain": [
       "                                           news_text  category\n",
       "0  방송인 김어준 씨가 13일 윤석열 대통령 당선인이 법무부 장관 후보로 한동훈 검사장...       100\n",
       "1  일부 외국인 세대, 다주택이면서 1주택 위장해 양도세 탈루국내 거주 외국인 주택투기...       100\n",
       "2  조국 \"한동훈 왕장관\" 이유 6가지 주장허은아, '조국'으로 이름 바꿔 되치기조국 ...       100\n",
       "3  민주당과 국민의힘이 오는 6월 지방선거에서 기초의원 중대선거구제를 시범실시하기로 합...       100\n",
       "4  기사내용 요약\"안철수, 불쾌한 거 없는 걸로 알아…무슨 생각인지\"\"내각 인선 과정 ...       100"
      ]
     },
     "execution_count": 31,
     "metadata": {},
     "output_type": "execute_result"
    }
   ],
   "source": [
    "news_df.head()"
   ]
  },
  {
   "cell_type": "code",
   "execution_count": 32,
   "id": "093542c0",
   "metadata": {},
   "outputs": [],
   "source": [
    "news_df.to_csv('news_df_800.csv',index=False)"
   ]
  },
  {
   "cell_type": "code",
   "execution_count": 33,
   "id": "b600b2cd",
   "metadata": {},
   "outputs": [
    {
     "data": {
      "text/html": [
       "<div>\n",
       "<style scoped>\n",
       "    .dataframe tbody tr th:only-of-type {\n",
       "        vertical-align: middle;\n",
       "    }\n",
       "\n",
       "    .dataframe tbody tr th {\n",
       "        vertical-align: top;\n",
       "    }\n",
       "\n",
       "    .dataframe thead th {\n",
       "        text-align: right;\n",
       "    }\n",
       "</style>\n",
       "<table border=\"1\" class=\"dataframe\">\n",
       "  <thead>\n",
       "    <tr style=\"text-align: right;\">\n",
       "      <th></th>\n",
       "      <th>news_text</th>\n",
       "      <th>category</th>\n",
       "    </tr>\n",
       "  </thead>\n",
       "  <tbody>\n",
       "    <tr>\n",
       "      <th>0</th>\n",
       "      <td>방송인 김어준 씨가 13일 윤석열 대통령 당선인이 법무부 장관 후보로 한동훈 검사장...</td>\n",
       "      <td>100</td>\n",
       "    </tr>\n",
       "    <tr>\n",
       "      <th>1</th>\n",
       "      <td>일부 외국인 세대, 다주택이면서 1주택 위장해 양도세 탈루국내 거주 외국인 주택투기...</td>\n",
       "      <td>100</td>\n",
       "    </tr>\n",
       "    <tr>\n",
       "      <th>2</th>\n",
       "      <td>조국 \"한동훈 왕장관\" 이유 6가지 주장허은아, '조국'으로 이름 바꿔 되치기조국 ...</td>\n",
       "      <td>100</td>\n",
       "    </tr>\n",
       "    <tr>\n",
       "      <th>3</th>\n",
       "      <td>민주당과 국민의힘이 오는 6월 지방선거에서 기초의원 중대선거구제를 시범실시하기로 합...</td>\n",
       "      <td>100</td>\n",
       "    </tr>\n",
       "    <tr>\n",
       "      <th>4</th>\n",
       "      <td>기사내용 요약\"안철수, 불쾌한 거 없는 걸로 알아…무슨 생각인지\"\"내각 인선 과정 ...</td>\n",
       "      <td>100</td>\n",
       "    </tr>\n",
       "  </tbody>\n",
       "</table>\n",
       "</div>"
      ],
      "text/plain": [
       "                                           news_text  category\n",
       "0  방송인 김어준 씨가 13일 윤석열 대통령 당선인이 법무부 장관 후보로 한동훈 검사장...       100\n",
       "1  일부 외국인 세대, 다주택이면서 1주택 위장해 양도세 탈루국내 거주 외국인 주택투기...       100\n",
       "2  조국 \"한동훈 왕장관\" 이유 6가지 주장허은아, '조국'으로 이름 바꿔 되치기조국 ...       100\n",
       "3  민주당과 국민의힘이 오는 6월 지방선거에서 기초의원 중대선거구제를 시범실시하기로 합...       100\n",
       "4  기사내용 요약\"안철수, 불쾌한 거 없는 걸로 알아…무슨 생각인지\"\"내각 인선 과정 ...       100"
      ]
     },
     "execution_count": 33,
     "metadata": {},
     "output_type": "execute_result"
    }
   ],
   "source": [
    "news_df = pd.read_csv('news_df_800.csv')\n",
    "news_df.head()"
   ]
  },
  {
   "cell_type": "markdown",
   "id": "b0b8d245",
   "metadata": {},
   "source": [
    "2022/04/15"
   ]
  },
  {
   "cell_type": "code",
   "execution_count": null,
   "id": "c1eaf43d",
   "metadata": {},
   "outputs": [],
   "source": []
  },
  {
   "cell_type": "code",
   "execution_count": null,
   "id": "97238146",
   "metadata": {},
   "outputs": [],
   "source": []
  },
  {
   "cell_type": "code",
   "execution_count": null,
   "id": "7fd0021c",
   "metadata": {},
   "outputs": [],
   "source": [
    "\n",
    "        "
   ]
  },
  {
   "cell_type": "code",
   "execution_count": null,
   "id": "de1ad6ff",
   "metadata": {},
   "outputs": [],
   "source": []
  },
  {
   "cell_type": "code",
   "execution_count": null,
   "id": "11008e10",
   "metadata": {},
   "outputs": [],
   "source": []
  },
  {
   "cell_type": "code",
   "execution_count": null,
   "id": "83e03433",
   "metadata": {},
   "outputs": [],
   "source": []
  },
  {
   "cell_type": "code",
   "execution_count": null,
   "id": "2cee17d1",
   "metadata": {},
   "outputs": [],
   "source": []
  }
 ],
 "metadata": {
  "kernelspec": {
   "display_name": "Python 3 (ipykernel)",
   "language": "python",
   "name": "python3"
  },
  "language_info": {
   "codemirror_mode": {
    "name": "ipython",
    "version": 3
   },
   "file_extension": ".py",
   "mimetype": "text/x-python",
   "name": "python",
   "nbconvert_exporter": "python",
   "pygments_lexer": "ipython3",
   "version": "3.8.13"
  }
 },
 "nbformat": 4,
 "nbformat_minor": 5
}
