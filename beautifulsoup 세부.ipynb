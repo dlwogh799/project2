{
 "cells": [
  {
   "cell_type": "code",
   "execution_count": 1,
   "id": "e1fb5fd5",
   "metadata": {},
   "outputs": [],
   "source": [
    "from bs4 import BeautifulSoup\n",
    "import requests\n",
    "import re\n",
    "import pandas as pd\n",
    "import numpy as np\n",
    "import konlpy"
   ]
  },
  {
   "cell_type": "code",
   "execution_count": 2,
   "id": "ff20a601",
   "metadata": {},
   "outputs": [
    {
     "data": {
      "text/html": [
       "<div>\n",
       "<style scoped>\n",
       "    .dataframe tbody tr th:only-of-type {\n",
       "        vertical-align: middle;\n",
       "    }\n",
       "\n",
       "    .dataframe tbody tr th {\n",
       "        vertical-align: top;\n",
       "    }\n",
       "\n",
       "    .dataframe thead th {\n",
       "        text-align: right;\n",
       "    }\n",
       "</style>\n",
       "<table border=\"1\" class=\"dataframe\">\n",
       "  <thead>\n",
       "    <tr style=\"text-align: right;\">\n",
       "      <th></th>\n",
       "      <th>news_text</th>\n",
       "      <th>category</th>\n",
       "    </tr>\n",
       "  </thead>\n",
       "  <tbody>\n",
       "  </tbody>\n",
       "</table>\n",
       "</div>"
      ],
      "text/plain": [
       "Empty DataFrame\n",
       "Columns: [news_text, category]\n",
       "Index: []"
      ]
     },
     "execution_count": 2,
     "metadata": {},
     "output_type": "execute_result"
    }
   ],
   "source": [
    "news_df = pd.DataFrame(columns = ['news_text','category'])\n",
    "news_df"
   ]
  },
  {
   "cell_type": "code",
   "execution_count": null,
   "id": "c9b66128",
   "metadata": {},
   "outputs": [],
   "source": [
    "'+str(cat)  '+str(page)"
   ]
  },
  {
   "cell_type": "code",
   "execution_count": null,
   "id": "327a77f1",
   "metadata": {},
   "outputs": [],
   "source": [
    "https://news.naver.com/main/list.naver?mode=LS2D&sid2='str(cat)+'&sid1=100&mid=shm&date=20220419&page='+str(page)'"
   ]
  },
  {
   "cell_type": "code",
   "execution_count": 13,
   "id": "27233faa",
   "metadata": {},
   "outputs": [],
   "source": [
    "import requests\n",
    "import pandas as pd\n",
    "import urllib.request as req\n",
    "from bs4 import BeautifulSoup\n",
    "\n",
    "sid1 = {'100',\n",
    "        '101',\n",
    "        '103',\n",
    "        '105'}\n",
    "sid2 = {'269',\n",
    "        '263',\n",
    "        '237',\n",
    "        '230'}\n",
    "\n",
    "main = {'정치',\n",
    "        '경제',\n",
    "        '생활/문화',\n",
    "        'IT/과학'}\n",
    "\n",
    "sub = {'정치 일반',\n",
    "        '경제 일반',\n",
    "        '여행/레저',\n",
    "        'IT일반'}\n",
    "\n"
   ]
  },
  {
   "cell_type": "code",
   "execution_count": 14,
   "id": "801b6842",
   "metadata": {},
   "outputs": [],
   "source": [
    "def subCategory(main, sub):\n",
    "    url1 = 'https://news.naver.com/main/list.naver?mode=LS2D&mid=shm&sid1='+{sid1[main]}+'&sid2='+{sid2[sub]}\n",
    "    header = {'User-Agent':'Mozilla/5.0 (Windows NT 10.0; Win64; x64) AppleWebKit/537.36 (KHTML, like Gecko) Chrome/100.0.4896.127 Safari/537.36'}\n",
    "    news1 = requests.get(url1, headers=headers)\n",
    "    soup1 = BeautifulSoup(news1.text,'html.parser')\n",
    "    \n",
    "    page = soup1.select('#main_content > div.paging > a')\n",
    "    page_lst = []\n",
    "    for p in page:\n",
    "        page_lst.append(p.get_text())\n",
    "    page_num = int(max(page_lst))\n",
    "\n",
    "    title_str = []\n",
    "    for i in range(1, page_num+1):\n",
    "        url = f'https://news.naver.com/main/list.naver?mode=LS2D&sid2={sid2[sub]}&sid1={sid1[main]}&mid=shm&date=20220419&page={i}'\n",
    "        news = requests.get(url, headers=headers)\n",
    "        soup = BeautifulSoup(news.text,'html.parser')\n",
    "\n",
    "        title_lst = soup.select('#main_content > div > ul > li > dl > dt > a')\n",
    "\n",
    "        for t in title_lst:\n",
    "            s = t.get_text().replace('\\n', '').replace('\\t','')\n",
    "            if s: # dt 태그 photo처럼 텍스트 없는 경우 제거 \n",
    "                title_str.append(s)\n",
    "    return title_str"
   ]
  },
  {
   "cell_type": "code",
   "execution_count": null,
   "id": "0bc910d4",
   "metadata": {},
   "outputs": [],
   "source": []
  }
 ],
 "metadata": {
  "kernelspec": {
   "display_name": "Python 3 (ipykernel)",
   "language": "python",
   "name": "python3"
  },
  "language_info": {
   "codemirror_mode": {
    "name": "ipython",
    "version": 3
   },
   "file_extension": ".py",
   "mimetype": "text/x-python",
   "name": "python",
   "nbconvert_exporter": "python",
   "pygments_lexer": "ipython3",
   "version": "3.8.13"
  }
 },
 "nbformat": 4,
 "nbformat_minor": 5
}
