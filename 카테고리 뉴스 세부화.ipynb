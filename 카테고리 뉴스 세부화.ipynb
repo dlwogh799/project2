{
 "cells": [
  {
   "cell_type": "code",
   "execution_count": 10,
   "id": "5f7f89f0",
   "metadata": {},
   "outputs": [],
   "source": [
    "from bs4 import BeautifulSoup\n",
    "import requests\n",
    "import re\n",
    "import pandas as pd\n",
    "import numpy as np\n",
    "import konlpy"
   ]
  },
  {
   "cell_type": "code",
   "execution_count": 11,
   "id": "f318289a",
   "metadata": {},
   "outputs": [],
   "source": [
    "import requests\n",
    "import pandas as pd\n",
    "import urllib.request as req\n",
    "from bs4 import BeautifulSoup"
   ]
  },
  {
   "cell_type": "code",
   "execution_count": 3,
   "id": "95f06940",
   "metadata": {},
   "outputs": [
    {
     "data": {
      "text/html": [
       "<div>\n",
       "<style scoped>\n",
       "    .dataframe tbody tr th:only-of-type {\n",
       "        vertical-align: middle;\n",
       "    }\n",
       "\n",
       "    .dataframe tbody tr th {\n",
       "        vertical-align: top;\n",
       "    }\n",
       "\n",
       "    .dataframe thead th {\n",
       "        text-align: right;\n",
       "    }\n",
       "</style>\n",
       "<table border=\"1\" class=\"dataframe\">\n",
       "  <thead>\n",
       "    <tr style=\"text-align: right;\">\n",
       "      <th></th>\n",
       "      <th>news_text</th>\n",
       "      <th>category</th>\n",
       "    </tr>\n",
       "  </thead>\n",
       "  <tbody>\n",
       "  </tbody>\n",
       "</table>\n",
       "</div>"
      ],
      "text/plain": [
       "Empty DataFrame\n",
       "Columns: [news_text, category]\n",
       "Index: []"
      ]
     },
     "execution_count": 3,
     "metadata": {},
     "output_type": "execute_result"
    }
   ],
   "source": [
    "news_df = pd.DataFrame(columns = ['news_text','category'])\n",
    "news_df"
   ]
  },
  {
   "cell_type": "code",
   "execution_count": null,
   "id": "b6803575",
   "metadata": {},
   "outputs": [],
   "source": [
    "'https://news.naver.com/main/main.naver?mode=LSD&mid=shm&sid1='+str(cat)+'&date=%2000:00:00&page='+str(page)"
   ]
  },
  {
   "cell_type": "code",
   "execution_count": 18,
   "id": "9dffb52c",
   "metadata": {},
   "outputs": [
    {
     "data": {
      "text/html": [
       "<div>\n",
       "<style scoped>\n",
       "    .dataframe tbody tr th:only-of-type {\n",
       "        vertical-align: middle;\n",
       "    }\n",
       "\n",
       "    .dataframe tbody tr th {\n",
       "        vertical-align: top;\n",
       "    }\n",
       "\n",
       "    .dataframe thead th {\n",
       "        text-align: right;\n",
       "    }\n",
       "</style>\n",
       "<table border=\"1\" class=\"dataframe\">\n",
       "  <thead>\n",
       "    <tr style=\"text-align: right;\">\n",
       "      <th></th>\n",
       "      <th>news_text</th>\n",
       "      <th>category</th>\n",
       "    </tr>\n",
       "  </thead>\n",
       "  <tbody>\n",
       "  </tbody>\n",
       "</table>\n",
       "</div>"
      ],
      "text/plain": [
       "Empty DataFrame\n",
       "Columns: [news_text, category]\n",
       "Index: []"
      ]
     },
     "execution_count": 18,
     "metadata": {},
     "output_type": "execute_result"
    }
   ],
   "source": [
    "news_df = pd.DataFrame(columns = ['news_text','category'])\n",
    "news_df"
   ]
  },
  {
   "cell_type": "code",
   "execution_count": 19,
   "id": "cfe19fc2",
   "metadata": {},
   "outputs": [],
   "source": [
    "politices = []\n",
    "number=[264,267,269]\n",
    "ind = 0\n",
    "for number in number:\n",
    "    for i in range(70):\n",
    "        url = 'https://news.naver.com/main/list.naver?mode=LS2D&sid2='+str(number)+'&sid1=100&date=%2000:00:00&page='+str(i+1)\n",
    "        headers = {'User-Agent': 'Mozilla/5.0 (Windows NT 10.0; Win64; x64) AppleWebKit/537.36 (KHTML, like Gecko) Chrome/100.0.4896.127 Safari/537.36'}\n",
    "        news = requests.get(url, headers=headers)\n",
    "        soup = BeautifulSoup(news.text,'html.parser')\n",
    "        links = soup.select(' #main_content > div > div > div > div > div > ul > li > div > a')\n",
    "        # 첫번째 뉴스,두번쨰 세번째 넘버링 하기 위해 enumerate사용\n",
    "        #주소를 가져온 뒤 거기서 id로 준 값에 해당하는 내용 추출\n",
    "        newslinks=[]\n",
    "        for j, a in enumerate(links):            \n",
    "            newslink = a.get('href')\n",
    "            newslinks.append(newslink)\n",
    "            newslinks = list(set(newslinks))        \n",
    "\n",
    "        for link in newslinks:\n",
    "            res2 = requests.get(link,headers = headers).text\n",
    "            soup2 = BeautifulSoup(res2,'html.parser')\n",
    "            news = soup2.find('div',id = \"articleBodyContents\").text\n",
    "            news = re.sub('\\n','',news)\n",
    "            news = re.sub('\\t','',news)\n",
    "            news_df.loc[ind] = [news,cat]\n",
    "            ind += 1\n",
    "    news_df"
   ]
  },
  {
   "cell_type": "code",
   "execution_count": null,
   "id": "9509aabb",
   "metadata": {},
   "outputs": [],
   "source": []
  },
  {
   "cell_type": "code",
   "execution_count": 16,
   "id": "de1e71fa",
   "metadata": {},
   "outputs": [],
   "source": [
    "news_df.to_csv('politices.csv',mode='w')"
   ]
  },
  {
   "cell_type": "code",
   "execution_count": 17,
   "id": "e6808ae6",
   "metadata": {},
   "outputs": [
    {
     "data": {
      "text/plain": [
       "(0, 2)"
      ]
     },
     "execution_count": 17,
     "metadata": {},
     "output_type": "execute_result"
    }
   ],
   "source": [
    "f_df = pd.read_csv('politices.csv',index_col=0)\n",
    "f_df.shape"
   ]
  },
  {
   "cell_type": "code",
   "execution_count": null,
   "id": "8a6591af",
   "metadata": {},
   "outputs": [],
   "source": []
  }
 ],
 "metadata": {
  "kernelspec": {
   "display_name": "Python 3 (ipykernel)",
   "language": "python",
   "name": "python3"
  },
  "language_info": {
   "codemirror_mode": {
    "name": "ipython",
    "version": 3
   },
   "file_extension": ".py",
   "mimetype": "text/x-python",
   "name": "python",
   "nbconvert_exporter": "python",
   "pygments_lexer": "ipython3",
   "version": "3.8.13"
  }
 },
 "nbformat": 4,
 "nbformat_minor": 5
}
