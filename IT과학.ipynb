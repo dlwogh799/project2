{
 "cells": [
  {
   "cell_type": "code",
   "execution_count": 1,
   "id": "75ac48e4",
   "metadata": {},
   "outputs": [],
   "source": [
    "from bs4 import BeautifulSoup\n",
    "import requests\n",
    "import re\n",
    "import pandas as pd\n",
    "import numpy as np\n",
    "import konlpy"
   ]
  },
  {
   "cell_type": "code",
   "execution_count": 2,
   "id": "ca584799",
   "metadata": {},
   "outputs": [],
   "source": [
    "import requests\n",
    "import pandas as pd\n",
    "import urllib.request as req\n",
    "from bs4 import BeautifulSoup"
   ]
  },
  {
   "cell_type": "code",
   "execution_count": 3,
   "id": "7476f1d8",
   "metadata": {},
   "outputs": [
    {
     "data": {
      "text/html": [
       "<div>\n",
       "<style scoped>\n",
       "    .dataframe tbody tr th:only-of-type {\n",
       "        vertical-align: middle;\n",
       "    }\n",
       "\n",
       "    .dataframe tbody tr th {\n",
       "        vertical-align: top;\n",
       "    }\n",
       "\n",
       "    .dataframe thead th {\n",
       "        text-align: right;\n",
       "    }\n",
       "</style>\n",
       "<table border=\"1\" class=\"dataframe\">\n",
       "  <thead>\n",
       "    <tr style=\"text-align: right;\">\n",
       "      <th></th>\n",
       "      <th>news_text</th>\n",
       "      <th>category</th>\n",
       "    </tr>\n",
       "  </thead>\n",
       "  <tbody>\n",
       "  </tbody>\n",
       "</table>\n",
       "</div>"
      ],
      "text/plain": [
       "Empty DataFrame\n",
       "Columns: [news_text, category]\n",
       "Index: []"
      ]
     },
     "execution_count": 3,
     "metadata": {},
     "output_type": "execute_result"
    }
   ],
   "source": [
    "news_df = pd.DataFrame(columns = ['news_text','category'])\n",
    "news_df"
   ]
  },
  {
   "cell_type": "code",
   "execution_count": 5,
   "id": "930220c9",
   "metadata": {},
   "outputs": [
    {
     "data": {
      "text/html": [
       "<div>\n",
       "<style scoped>\n",
       "    .dataframe tbody tr th:only-of-type {\n",
       "        vertical-align: middle;\n",
       "    }\n",
       "\n",
       "    .dataframe tbody tr th {\n",
       "        vertical-align: top;\n",
       "    }\n",
       "\n",
       "    .dataframe thead th {\n",
       "        text-align: right;\n",
       "    }\n",
       "</style>\n",
       "<table border=\"1\" class=\"dataframe\">\n",
       "  <thead>\n",
       "    <tr style=\"text-align: right;\">\n",
       "      <th></th>\n",
       "      <th>news_text</th>\n",
       "      <th>category</th>\n",
       "    </tr>\n",
       "  </thead>\n",
       "  <tbody>\n",
       "    <tr>\n",
       "      <th>0</th>\n",
       "      <td>모바일인덱스, 1~3월 국내 6개사 비교월 사용자수·사용시간 모두 1위 기록해[서울...</td>\n",
       "      <td>731</td>\n",
       "    </tr>\n",
       "    <tr>\n",
       "      <th>1</th>\n",
       "      <td>기사내용 요약국가과학기술자문회의 제20회 심의회의 개최제4차 남극 연구활동 진흥 기...</td>\n",
       "      <td>731</td>\n",
       "    </tr>\n",
       "    <tr>\n",
       "      <th>2</th>\n",
       "      <td>북미, 유럽, 아시아 주요 시장에 2분기부터 공급LG전자가 2022년 LG그램 노트...</td>\n",
       "      <td>731</td>\n",
       "    </tr>\n",
       "    <tr>\n",
       "      <th>3</th>\n",
       "      <td>유저 간 전투는 4107만 회 기록매주 일요일 9시 공성전 열릴 예정5월 4일 대규...</td>\n",
       "      <td>731</td>\n",
       "    </tr>\n",
       "    <tr>\n",
       "      <th>4</th>\n",
       "      <td>기사내용 요약영상콘텐츠 제작비 세액공제율 선진국의 1/10 불과올해 일몰 지원제도 ...</td>\n",
       "      <td>731</td>\n",
       "    </tr>\n",
       "    <tr>\n",
       "      <th>...</th>\n",
       "      <td>...</td>\n",
       "      <td>...</td>\n",
       "    </tr>\n",
       "    <tr>\n",
       "      <th>1790</th>\n",
       "      <td>박스에 ‘내부, 개발 전용’ 적혀깜박 잊었나 일부러 두고 갔나아이폰4·5처럼 마케팅...</td>\n",
       "      <td>230</td>\n",
       "    </tr>\n",
       "    <tr>\n",
       "      <th>1791</th>\n",
       "      <td>코로나19로 법인택시 기사 20% 감소플랫폼 업계, '수락률 제고' 노력에도공급 부...</td>\n",
       "      <td>230</td>\n",
       "    </tr>\n",
       "    <tr>\n",
       "      <th>1792</th>\n",
       "      <td>삼성전자의 한정판 스마트폰 ‘갤럭시Z 플립3 포켓몬 에디션&lt;사진&gt;’이 출시 13시간...</td>\n",
       "      <td>230</td>\n",
       "    </tr>\n",
       "    <tr>\n",
       "      <th>1793</th>\n",
       "      <td>유튜브 ‘올블랑TV’ 캡처여주엽 ‘올블랑’ 대표사람들은 ‘운동할 시간이 없다’는 이...</td>\n",
       "      <td>230</td>\n",
       "    </tr>\n",
       "    <tr>\n",
       "      <th>1794</th>\n",
       "      <td>국내 정보통신기술(ICT) 업계가 윤석열 대통령 당선인에게 ‘과학기술수석비서관’ 설...</td>\n",
       "      <td>230</td>\n",
       "    </tr>\n",
       "  </tbody>\n",
       "</table>\n",
       "<p>1795 rows × 2 columns</p>\n",
       "</div>"
      ],
      "text/plain": [
       "                                              news_text  category\n",
       "0     모바일인덱스, 1~3월 국내 6개사 비교월 사용자수·사용시간 모두 1위 기록해[서울...       731\n",
       "1     기사내용 요약국가과학기술자문회의 제20회 심의회의 개최제4차 남극 연구활동 진흥 기...       731\n",
       "2     북미, 유럽, 아시아 주요 시장에 2분기부터 공급LG전자가 2022년 LG그램 노트...       731\n",
       "3     유저 간 전투는 4107만 회 기록매주 일요일 9시 공성전 열릴 예정5월 4일 대규...       731\n",
       "4     기사내용 요약영상콘텐츠 제작비 세액공제율 선진국의 1/10 불과올해 일몰 지원제도 ...       731\n",
       "...                                                 ...       ...\n",
       "1790  박스에 ‘내부, 개발 전용’ 적혀깜박 잊었나 일부러 두고 갔나아이폰4·5처럼 마케팅...       230\n",
       "1791  코로나19로 법인택시 기사 20% 감소플랫폼 업계, '수락률 제고' 노력에도공급 부...       230\n",
       "1792  삼성전자의 한정판 스마트폰 ‘갤럭시Z 플립3 포켓몬 에디션<사진>’이 출시 13시간...       230\n",
       "1793  유튜브 ‘올블랑TV’ 캡처여주엽 ‘올블랑’ 대표사람들은 ‘운동할 시간이 없다’는 이...       230\n",
       "1794  국내 정보통신기술(ICT) 업계가 윤석열 대통령 당선인에게 ‘과학기술수석비서관’ 설...       230\n",
       "\n",
       "[1795 rows x 2 columns]"
      ]
     },
     "execution_count": 5,
     "metadata": {},
     "output_type": "execute_result"
    }
   ],
   "source": [
    "cats=[731,732,229,226,227,283,230]\n",
    "ind = 0\n",
    "for cat in cats:   \n",
    "    for i in range(30):\n",
    "        \n",
    "        url = 'https://news.naver.com/main/list.naver?mode=LS2D&sid2='+str(cat)+'&sid1=105&mid=shm&date=20220426&page='+str(i+1)\n",
    "        headers = {'User-Agent': 'Mozilla/5.0 (Windows NT 10.0; Win64; x64) AppleWebKit/537.36 (KHTML, like Gecko) Chrome/100.0.4896.127 Safari/537.36'}\n",
    "        news = requests.get(url, headers=headers)\n",
    "        soup = BeautifulSoup(news.text,'html.parser')\n",
    "        links = soup.select(' #main_content > div > ul> li > dl > dt > a')\n",
    "        newslinks=[]\n",
    "        for j, a in enumerate(links):            \n",
    "            newslink = a.get('href')\n",
    "            newslinks.append(newslink)\n",
    "            newslinks = list(set(newslinks))        \n",
    "        \n",
    "        for link in newslinks:\n",
    "            try:\n",
    "                res2 = requests.get(link,headers = headers).text\n",
    "                soup2 = BeautifulSoup(res2,'html.parser')\n",
    "                news = soup2.find('div',id = \"dic_area\").text\n",
    "                news = re.sub('\\n','',news)\n",
    "                news = re.sub('\\t','',news)\n",
    "                news_df.loc[ind] = [news,cat]\n",
    "                ind += 1\n",
    "            except Exception as e:\n",
    "                pass\n",
    "news_df"
   ]
  },
  {
   "cell_type": "code",
   "execution_count": 6,
   "id": "6f5530ff",
   "metadata": {},
   "outputs": [],
   "source": [
    "news_df.to_csv('news_dfs.csv',mode='w')"
   ]
  },
  {
   "cell_type": "code",
   "execution_count": 7,
   "id": "e68cfcf5",
   "metadata": {},
   "outputs": [
    {
     "data": {
      "text/plain": [
       "(1795, 2)"
      ]
     },
     "execution_count": 7,
     "metadata": {},
     "output_type": "execute_result"
    }
   ],
   "source": [
    "f_df4 = pd.read_csv('news_dfs.csv',index_col=0)\n",
    "f_df4.shape"
   ]
  },
  {
   "cell_type": "code",
   "execution_count": 8,
   "id": "b09c802b",
   "metadata": {},
   "outputs": [
    {
     "data": {
      "text/html": [
       "<div>\n",
       "<style scoped>\n",
       "    .dataframe tbody tr th:only-of-type {\n",
       "        vertical-align: middle;\n",
       "    }\n",
       "\n",
       "    .dataframe tbody tr th {\n",
       "        vertical-align: top;\n",
       "    }\n",
       "\n",
       "    .dataframe thead th {\n",
       "        text-align: right;\n",
       "    }\n",
       "</style>\n",
       "<table border=\"1\" class=\"dataframe\">\n",
       "  <thead>\n",
       "    <tr style=\"text-align: right;\">\n",
       "      <th></th>\n",
       "      <th>news_text</th>\n",
       "      <th>category</th>\n",
       "    </tr>\n",
       "  </thead>\n",
       "  <tbody>\n",
       "    <tr>\n",
       "      <th>0</th>\n",
       "      <td>모바일인덱스, 1~3월 국내 6개사 비교월 사용자수·사용시간 모두 1위 기록해[서울...</td>\n",
       "      <td>731</td>\n",
       "    </tr>\n",
       "    <tr>\n",
       "      <th>1</th>\n",
       "      <td>기사내용 요약국가과학기술자문회의 제20회 심의회의 개최제4차 남극 연구활동 진흥 기...</td>\n",
       "      <td>731</td>\n",
       "    </tr>\n",
       "    <tr>\n",
       "      <th>2</th>\n",
       "      <td>북미, 유럽, 아시아 주요 시장에 2분기부터 공급LG전자가 2022년 LG그램 노트...</td>\n",
       "      <td>731</td>\n",
       "    </tr>\n",
       "    <tr>\n",
       "      <th>3</th>\n",
       "      <td>유저 간 전투는 4107만 회 기록매주 일요일 9시 공성전 열릴 예정5월 4일 대규...</td>\n",
       "      <td>731</td>\n",
       "    </tr>\n",
       "    <tr>\n",
       "      <th>4</th>\n",
       "      <td>기사내용 요약영상콘텐츠 제작비 세액공제율 선진국의 1/10 불과올해 일몰 지원제도 ...</td>\n",
       "      <td>731</td>\n",
       "    </tr>\n",
       "  </tbody>\n",
       "</table>\n",
       "</div>"
      ],
      "text/plain": [
       "                                           news_text  category\n",
       "0  모바일인덱스, 1~3월 국내 6개사 비교월 사용자수·사용시간 모두 1위 기록해[서울...       731\n",
       "1  기사내용 요약국가과학기술자문회의 제20회 심의회의 개최제4차 남극 연구활동 진흥 기...       731\n",
       "2  북미, 유럽, 아시아 주요 시장에 2분기부터 공급LG전자가 2022년 LG그램 노트...       731\n",
       "3  유저 간 전투는 4107만 회 기록매주 일요일 9시 공성전 열릴 예정5월 4일 대규...       731\n",
       "4  기사내용 요약영상콘텐츠 제작비 세액공제율 선진국의 1/10 불과올해 일몰 지원제도 ...       731"
      ]
     },
     "execution_count": 8,
     "metadata": {},
     "output_type": "execute_result"
    }
   ],
   "source": [
    "f_df4.head()"
   ]
  },
  {
   "cell_type": "code",
   "execution_count": null,
   "id": "8bdf8533",
   "metadata": {},
   "outputs": [],
   "source": []
  },
  {
   "cell_type": "code",
   "execution_count": null,
   "id": "2233e8a5",
   "metadata": {},
   "outputs": [],
   "source": []
  }
 ],
 "metadata": {
  "kernelspec": {
   "display_name": "Python 3 (ipykernel)",
   "language": "python",
   "name": "python3"
  },
  "language_info": {
   "codemirror_mode": {
    "name": "ipython",
    "version": 3
   },
   "file_extension": ".py",
   "mimetype": "text/x-python",
   "name": "python",
   "nbconvert_exporter": "python",
   "pygments_lexer": "ipython3",
   "version": "3.8.13"
  }
 },
 "nbformat": 4,
 "nbformat_minor": 5
}
