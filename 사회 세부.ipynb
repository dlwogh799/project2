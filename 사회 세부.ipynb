{
 "cells": [
  {
   "cell_type": "code",
   "execution_count": 1,
   "id": "3ff66141",
   "metadata": {},
   "outputs": [],
   "source": [
    "from bs4 import BeautifulSoup\n",
    "import requests\n",
    "import re\n",
    "import pandas as pd\n",
    "import numpy as np\n",
    "import konlpy"
   ]
  },
  {
   "cell_type": "code",
   "execution_count": 2,
   "id": "17dc3e1a",
   "metadata": {},
   "outputs": [],
   "source": [
    "import requests\n",
    "import pandas as pd\n",
    "import urllib.request as req\n",
    "from bs4 import BeautifulSoup"
   ]
  },
  {
   "cell_type": "code",
   "execution_count": 5,
   "id": "dc1f347a",
   "metadata": {},
   "outputs": [
    {
     "data": {
      "text/html": [
       "<div>\n",
       "<style scoped>\n",
       "    .dataframe tbody tr th:only-of-type {\n",
       "        vertical-align: middle;\n",
       "    }\n",
       "\n",
       "    .dataframe tbody tr th {\n",
       "        vertical-align: top;\n",
       "    }\n",
       "\n",
       "    .dataframe thead th {\n",
       "        text-align: right;\n",
       "    }\n",
       "</style>\n",
       "<table border=\"1\" class=\"dataframe\">\n",
       "  <thead>\n",
       "    <tr style=\"text-align: right;\">\n",
       "      <th></th>\n",
       "      <th>news_text</th>\n",
       "      <th>category</th>\n",
       "    </tr>\n",
       "  </thead>\n",
       "  <tbody>\n",
       "  </tbody>\n",
       "</table>\n",
       "</div>"
      ],
      "text/plain": [
       "Empty DataFrame\n",
       "Columns: [news_text, category]\n",
       "Index: []"
      ]
     },
     "execution_count": 5,
     "metadata": {},
     "output_type": "execute_result"
    }
   ],
   "source": [
    "news_df = pd.DataFrame(columns = ['news_text','category'])\n",
    "news_df"
   ]
  },
  {
   "cell_type": "code",
   "execution_count": 6,
   "id": "276052e4",
   "metadata": {},
   "outputs": [
    {
     "data": {
      "text/html": [
       "<div>\n",
       "<style scoped>\n",
       "    .dataframe tbody tr th:only-of-type {\n",
       "        vertical-align: middle;\n",
       "    }\n",
       "\n",
       "    .dataframe tbody tr th {\n",
       "        vertical-align: top;\n",
       "    }\n",
       "\n",
       "    .dataframe thead th {\n",
       "        text-align: right;\n",
       "    }\n",
       "</style>\n",
       "<table border=\"1\" class=\"dataframe\">\n",
       "  <thead>\n",
       "    <tr style=\"text-align: right;\">\n",
       "      <th></th>\n",
       "      <th>news_text</th>\n",
       "      <th>category</th>\n",
       "    </tr>\n",
       "  </thead>\n",
       "  <tbody>\n",
       "    <tr>\n",
       "      <th>0</th>\n",
       "      <td>국민일보DB과거 직장 동료였던 남성의 집에 여러 차례 무단 침입한 40대 여성이 경...</td>\n",
       "      <td>249</td>\n",
       "    </tr>\n",
       "    <tr>\n",
       "      <th>1</th>\n",
       "      <td>[천안=뉴시스] 이종익 기자 = 지난 13일 두쌍의 부부에게 흉기를 휘둘러 아내 2...</td>\n",
       "      <td>249</td>\n",
       "    </tr>\n",
       "    <tr>\n",
       "      <th>2</th>\n",
       "      <td>[경향신문] 이정수 서울중앙지검장이 26일 오전 서울 서초구 중앙지검에서 열린 검수...</td>\n",
       "      <td>249</td>\n",
       "    </tr>\n",
       "    <tr>\n",
       "      <th>3</th>\n",
       "      <td>천안 흉기 난동 피해자 지인, 국민청원 글\"가해자 엄벌 및 신상공개 해달라\"천안 부...</td>\n",
       "      <td>249</td>\n",
       "    </tr>\n",
       "    <tr>\n",
       "      <th>4</th>\n",
       "      <td>핵심요약서울의소리 이명수 기자 등에게 벌금형앞서 尹 서초구 아파트 주차장에 5차례 ...</td>\n",
       "      <td>249</td>\n",
       "    </tr>\n",
       "    <tr>\n",
       "      <th>...</th>\n",
       "      <td>...</td>\n",
       "      <td>...</td>\n",
       "    </tr>\n",
       "    <tr>\n",
       "      <th>1792</th>\n",
       "      <td>법원 \"모든 공소사실 인정돼 양형부당 주장 받아들일 수 없다\"10여 년에 걸쳐 아동...</td>\n",
       "      <td>257</td>\n",
       "    </tr>\n",
       "    <tr>\n",
       "      <th>1793</th>\n",
       "      <td>서울시버스노동조합의 총파업이 철회된 26일 서울 성동구의 한 운수 업체에서 관계자가...</td>\n",
       "      <td>257</td>\n",
       "    </tr>\n",
       "    <tr>\n",
       "      <th>1794</th>\n",
       "      <td>전북 익산경찰서 마약 구입경로 조사 중마약에 취해 고속버스에 탄 20대가 경찰에 붙...</td>\n",
       "      <td>257</td>\n",
       "    </tr>\n",
       "    <tr>\n",
       "      <th>1795</th>\n",
       "      <td>과천시청 전경.(과천시 제공)© 뉴스1(과천=뉴스1) 유재규 기자 = 경기 과천시가...</td>\n",
       "      <td>257</td>\n",
       "    </tr>\n",
       "    <tr>\n",
       "      <th>1796</th>\n",
       "      <td>(수원=뉴스1) 김영운 기자 = 26일 오후 경기 수원 팔달구 수원시청 도시계획과 ...</td>\n",
       "      <td>257</td>\n",
       "    </tr>\n",
       "  </tbody>\n",
       "</table>\n",
       "<p>1797 rows × 2 columns</p>\n",
       "</div>"
      ],
      "text/plain": [
       "                                              news_text  category\n",
       "0     국민일보DB과거 직장 동료였던 남성의 집에 여러 차례 무단 침입한 40대 여성이 경...       249\n",
       "1     [천안=뉴시스] 이종익 기자 = 지난 13일 두쌍의 부부에게 흉기를 휘둘러 아내 2...       249\n",
       "2     [경향신문] 이정수 서울중앙지검장이 26일 오전 서울 서초구 중앙지검에서 열린 검수...       249\n",
       "3     천안 흉기 난동 피해자 지인, 국민청원 글\"가해자 엄벌 및 신상공개 해달라\"천안 부...       249\n",
       "4     핵심요약서울의소리 이명수 기자 등에게 벌금형앞서 尹 서초구 아파트 주차장에 5차례 ...       249\n",
       "...                                                 ...       ...\n",
       "1792  법원 \"모든 공소사실 인정돼 양형부당 주장 받아들일 수 없다\"10여 년에 걸쳐 아동...       257\n",
       "1793  서울시버스노동조합의 총파업이 철회된 26일 서울 성동구의 한 운수 업체에서 관계자가...       257\n",
       "1794  전북 익산경찰서 마약 구입경로 조사 중마약에 취해 고속버스에 탄 20대가 경찰에 붙...       257\n",
       "1795  과천시청 전경.(과천시 제공)© 뉴스1(과천=뉴스1) 유재규 기자 = 경기 과천시가...       257\n",
       "1796  (수원=뉴스1) 김영운 기자 = 26일 오후 경기 수원 팔달구 수원시청 도시계획과 ...       257\n",
       "\n",
       "[1797 rows x 2 columns]"
      ]
     },
     "execution_count": 6,
     "metadata": {},
     "output_type": "execute_result"
    }
   ],
   "source": [
    "cats=[249,256,257]\n",
    "ind = 0\n",
    "for cat in cats:   \n",
    "    for i in range(30):\n",
    "        \n",
    "        url = 'https://news.naver.com/main/list.naver?mode=LS2D&sid2='+str(cat)+'&sid1=102&mid=shm&date=20220426&page='+str(i+1)\n",
    "        headers = {'User-Agent': 'Mozilla/5.0 (Windows NT 10.0; Win64; x64) AppleWebKit/537.36 (KHTML, like Gecko) Chrome/100.0.4896.127 Safari/537.36'}\n",
    "        news = requests.get(url, headers=headers)\n",
    "        soup = BeautifulSoup(news.text,'html.parser')\n",
    "        links = soup.select(' #main_content > div > ul> li > dl > dt > a')\n",
    "        newslinks=[]\n",
    "        for j, a in enumerate(links):            \n",
    "            newslink = a.get('href')\n",
    "            newslinks.append(newslink)\n",
    "            newslinks = list(set(newslinks))        \n",
    "        \n",
    "        for link in newslinks:\n",
    "            try:\n",
    "                res2 = requests.get(link,headers = headers).text\n",
    "                soup2 = BeautifulSoup(res2,'html.parser')\n",
    "                news = soup2.find('div',id = \"dic_area\").text\n",
    "                news = re.sub('\\n','',news)\n",
    "                news = re.sub('\\t','',news)\n",
    "                news_df.loc[ind] = [news,cat]\n",
    "                ind += 1\n",
    "            except Exception as e:\n",
    "                pass\n",
    "news_df"
   ]
  },
  {
   "cell_type": "code",
   "execution_count": 7,
   "id": "19f9cdea",
   "metadata": {},
   "outputs": [],
   "source": [
    "news_df.to_csv('news_dfe.csv',mode='w')"
   ]
  },
  {
   "cell_type": "code",
   "execution_count": 10,
   "id": "1d9ad9ce",
   "metadata": {},
   "outputs": [
    {
     "data": {
      "text/plain": [
       "(1797, 2)"
      ]
     },
     "execution_count": 10,
     "metadata": {},
     "output_type": "execute_result"
    }
   ],
   "source": [
    "f_df2 = pd.read_csv('news_dfe.csv',index_col=0)\n",
    "f_df2.shape"
   ]
  },
  {
   "cell_type": "code",
   "execution_count": 11,
   "id": "4ef79936",
   "metadata": {},
   "outputs": [
    {
     "data": {
      "text/html": [
       "<div>\n",
       "<style scoped>\n",
       "    .dataframe tbody tr th:only-of-type {\n",
       "        vertical-align: middle;\n",
       "    }\n",
       "\n",
       "    .dataframe tbody tr th {\n",
       "        vertical-align: top;\n",
       "    }\n",
       "\n",
       "    .dataframe thead th {\n",
       "        text-align: right;\n",
       "    }\n",
       "</style>\n",
       "<table border=\"1\" class=\"dataframe\">\n",
       "  <thead>\n",
       "    <tr style=\"text-align: right;\">\n",
       "      <th></th>\n",
       "      <th>news_text</th>\n",
       "      <th>category</th>\n",
       "    </tr>\n",
       "  </thead>\n",
       "  <tbody>\n",
       "    <tr>\n",
       "      <th>0</th>\n",
       "      <td>국민일보DB과거 직장 동료였던 남성의 집에 여러 차례 무단 침입한 40대 여성이 경...</td>\n",
       "      <td>249</td>\n",
       "    </tr>\n",
       "    <tr>\n",
       "      <th>1</th>\n",
       "      <td>[천안=뉴시스] 이종익 기자 = 지난 13일 두쌍의 부부에게 흉기를 휘둘러 아내 2...</td>\n",
       "      <td>249</td>\n",
       "    </tr>\n",
       "    <tr>\n",
       "      <th>2</th>\n",
       "      <td>[경향신문] 이정수 서울중앙지검장이 26일 오전 서울 서초구 중앙지검에서 열린 검수...</td>\n",
       "      <td>249</td>\n",
       "    </tr>\n",
       "    <tr>\n",
       "      <th>3</th>\n",
       "      <td>천안 흉기 난동 피해자 지인, 국민청원 글\"가해자 엄벌 및 신상공개 해달라\"천안 부...</td>\n",
       "      <td>249</td>\n",
       "    </tr>\n",
       "    <tr>\n",
       "      <th>4</th>\n",
       "      <td>핵심요약서울의소리 이명수 기자 등에게 벌금형앞서 尹 서초구 아파트 주차장에 5차례 ...</td>\n",
       "      <td>249</td>\n",
       "    </tr>\n",
       "  </tbody>\n",
       "</table>\n",
       "</div>"
      ],
      "text/plain": [
       "                                           news_text  category\n",
       "0  국민일보DB과거 직장 동료였던 남성의 집에 여러 차례 무단 침입한 40대 여성이 경...       249\n",
       "1  [천안=뉴시스] 이종익 기자 = 지난 13일 두쌍의 부부에게 흉기를 휘둘러 아내 2...       249\n",
       "2  [경향신문] 이정수 서울중앙지검장이 26일 오전 서울 서초구 중앙지검에서 열린 검수...       249\n",
       "3  천안 흉기 난동 피해자 지인, 국민청원 글\"가해자 엄벌 및 신상공개 해달라\"천안 부...       249\n",
       "4  핵심요약서울의소리 이명수 기자 등에게 벌금형앞서 尹 서초구 아파트 주차장에 5차례 ...       249"
      ]
     },
     "execution_count": 11,
     "metadata": {},
     "output_type": "execute_result"
    }
   ],
   "source": [
    "f_df2.head()"
   ]
  }
 ],
 "metadata": {
  "kernelspec": {
   "display_name": "Python 3 (ipykernel)",
   "language": "python",
   "name": "python3"
  },
  "language_info": {
   "codemirror_mode": {
    "name": "ipython",
    "version": 3
   },
   "file_extension": ".py",
   "mimetype": "text/x-python",
   "name": "python",
   "nbconvert_exporter": "python",
   "pygments_lexer": "ipython3",
   "version": "3.8.13"
  }
 },
 "nbformat": 4,
 "nbformat_minor": 5
}
