{
 "cells": [
  {
   "cell_type": "code",
   "execution_count": 17,
   "id": "665ed85a",
   "metadata": {},
   "outputs": [],
   "source": [
    "from bs4 import BeautifulSoup\n",
    "import requests\n",
    "import re\n",
    "import pandas as pd\n",
    "import numpy as np\n",
    "import konlpy"
   ]
  },
  {
   "cell_type": "code",
   "execution_count": 18,
   "id": "e66dfc0d",
   "metadata": {},
   "outputs": [],
   "source": [
    "import requests\n",
    "import pandas as pd\n",
    "import urllib.request as req\n",
    "from bs4 import BeautifulSoup"
   ]
  },
  {
   "cell_type": "code",
   "execution_count": 16,
   "id": "5a69b1ae",
   "metadata": {},
   "outputs": [
    {
     "data": {
      "text/html": [
       "<div>\n",
       "<style scoped>\n",
       "    .dataframe tbody tr th:only-of-type {\n",
       "        vertical-align: middle;\n",
       "    }\n",
       "\n",
       "    .dataframe tbody tr th {\n",
       "        vertical-align: top;\n",
       "    }\n",
       "\n",
       "    .dataframe thead th {\n",
       "        text-align: right;\n",
       "    }\n",
       "</style>\n",
       "<table border=\"1\" class=\"dataframe\">\n",
       "  <thead>\n",
       "    <tr style=\"text-align: right;\">\n",
       "      <th></th>\n",
       "      <th>news_text</th>\n",
       "      <th>category</th>\n",
       "    </tr>\n",
       "  </thead>\n",
       "  <tbody>\n",
       "  </tbody>\n",
       "</table>\n",
       "</div>"
      ],
      "text/plain": [
       "Empty DataFrame\n",
       "Columns: [news_text, category]\n",
       "Index: []"
      ]
     },
     "execution_count": 16,
     "metadata": {},
     "output_type": "execute_result"
    }
   ],
   "source": [
    "news_df = pd.DataFrame(columns = ['news_text','category'])\n",
    "news_df"
   ]
  },
  {
   "cell_type": "code",
   "execution_count": 19,
   "id": "d38007b0",
   "metadata": {},
   "outputs": [
    {
     "data": {
      "text/html": [
       "<div>\n",
       "<style scoped>\n",
       "    .dataframe tbody tr th:only-of-type {\n",
       "        vertical-align: middle;\n",
       "    }\n",
       "\n",
       "    .dataframe tbody tr th {\n",
       "        vertical-align: top;\n",
       "    }\n",
       "\n",
       "    .dataframe thead th {\n",
       "        text-align: right;\n",
       "    }\n",
       "</style>\n",
       "<table border=\"1\" class=\"dataframe\">\n",
       "  <thead>\n",
       "    <tr style=\"text-align: right;\">\n",
       "      <th></th>\n",
       "      <th>news_text</th>\n",
       "      <th>category</th>\n",
       "    </tr>\n",
       "  </thead>\n",
       "  <tbody>\n",
       "  </tbody>\n",
       "</table>\n",
       "</div>"
      ],
      "text/plain": [
       "Empty DataFrame\n",
       "Columns: [news_text, category]\n",
       "Index: []"
      ]
     },
     "execution_count": 19,
     "metadata": {},
     "output_type": "execute_result"
    }
   ],
   "source": [
    "news_df = pd.DataFrame(columns = ['news_text','category'])\n",
    "news_df"
   ]
  },
  {
   "cell_type": "code",
   "execution_count": null,
   "id": "0cb7ac2f",
   "metadata": {},
   "outputs": [],
   "source": [
    "#main_content > div > ul> li > dl > dt > a"
   ]
  },
  {
   "cell_type": "code",
   "execution_count": null,
   "id": "0d52ca37",
   "metadata": {},
   "outputs": [],
   "source": [
    "//*[@id=\"dic_area\"]"
   ]
  },
  {
   "cell_type": "code",
   "execution_count": null,
   "id": "6c77ffe5",
   "metadata": {},
   "outputs": [],
   "source": [
    "//*[@id=\"dic_area\"]"
   ]
  },
  {
   "cell_type": "code",
   "execution_count": 25,
   "id": "f45fde98",
   "metadata": {},
   "outputs": [
    {
     "data": {
      "text/html": [
       "<div>\n",
       "<style scoped>\n",
       "    .dataframe tbody tr th:only-of-type {\n",
       "        vertical-align: middle;\n",
       "    }\n",
       "\n",
       "    .dataframe tbody tr th {\n",
       "        vertical-align: top;\n",
       "    }\n",
       "\n",
       "    .dataframe thead th {\n",
       "        text-align: right;\n",
       "    }\n",
       "</style>\n",
       "<table border=\"1\" class=\"dataframe\">\n",
       "  <thead>\n",
       "    <tr style=\"text-align: right;\">\n",
       "      <th></th>\n",
       "      <th>news_text</th>\n",
       "      <th>category</th>\n",
       "    </tr>\n",
       "  </thead>\n",
       "  <tbody>\n",
       "    <tr>\n",
       "      <th>0</th>\n",
       "      <td>(서울=연합뉴스) 26일 서울 용산구 합동참모본부에서 대통령 집무실 이전 ...</td>\n",
       "      <td>264</td>\n",
       "    </tr>\n",
       "    <tr>\n",
       "      <th>1</th>\n",
       "      <td>(서울=연합뉴스) 국회 국방위원회 민홍철 위원장과 더불어민주당 위원들이 26...</td>\n",
       "      <td>264</td>\n",
       "    </tr>\n",
       "    <tr>\n",
       "      <th>2</th>\n",
       "      <td>“경기지사 당선 시 직접 협상 나설 것”전날 협상장 찾아 “버스 멈추면 일상 멈춰”...</td>\n",
       "      <td>264</td>\n",
       "    </tr>\n",
       "    <tr>\n",
       "      <th>3</th>\n",
       "      <td>[서울경제] 이동기 코엑스 사장(오른쪽)과 류명현 한국도로협회 상임부회장이 26일 ...</td>\n",
       "      <td>264</td>\n",
       "    </tr>\n",
       "    <tr>\n",
       "      <th>4</th>\n",
       "      <td>(서울=연합뉴스) 국회 국방위원회 민홍철 위원장과 더불어민주당 위원들이 26...</td>\n",
       "      <td>264</td>\n",
       "    </tr>\n",
       "    <tr>\n",
       "      <th>...</th>\n",
       "      <td>...</td>\n",
       "      <td>...</td>\n",
       "    </tr>\n",
       "    <tr>\n",
       "      <th>1792</th>\n",
       "      <td>(성남=연합뉴스) 권준우 기자 = 황영시 전 감사원장이 지난 23일 별세했다. 향년...</td>\n",
       "      <td>267</td>\n",
       "    </tr>\n",
       "    <tr>\n",
       "      <th>1793</th>\n",
       "      <td>경제 침체 주요인으로과도한 군사비용 꼽으면서핵무기 보유는 '긍정적' 평가북한이 공개...</td>\n",
       "      <td>267</td>\n",
       "    </tr>\n",
       "    <tr>\n",
       "      <th>1794</th>\n",
       "      <td>한일정책협의대표단, 日 외무장관 등 면담반일 여론 의식, \"고위급 교류 재개는 신중...</td>\n",
       "      <td>267</td>\n",
       "    </tr>\n",
       "    <tr>\n",
       "      <th>1795</th>\n",
       "      <td>문재인 대통령은 25일 검찰의 수사권을 완전히 박탈한다는 의미의 ‘검수완박’ 법...</td>\n",
       "      <td>267</td>\n",
       "    </tr>\n",
       "    <tr>\n",
       "      <th>1796</th>\n",
       "      <td>문재인 대통령은 25일 윤석열 대통령 당선인이 검찰총장 당시 조국 전 법무부 장...</td>\n",
       "      <td>267</td>\n",
       "    </tr>\n",
       "  </tbody>\n",
       "</table>\n",
       "<p>1797 rows × 2 columns</p>\n",
       "</div>"
      ],
      "text/plain": [
       "                                              news_text  category\n",
       "0          (서울=연합뉴스) 26일 서울 용산구 합동참모본부에서 대통령 집무실 이전 ...       264\n",
       "1         (서울=연합뉴스) 국회 국방위원회 민홍철 위원장과 더불어민주당 위원들이 26...       264\n",
       "2     “경기지사 당선 시 직접 협상 나설 것”전날 협상장 찾아 “버스 멈추면 일상 멈춰”...       264\n",
       "3     [서울경제] 이동기 코엑스 사장(오른쪽)과 류명현 한국도로협회 상임부회장이 26일 ...       264\n",
       "4         (서울=연합뉴스) 국회 국방위원회 민홍철 위원장과 더불어민주당 위원들이 26...       264\n",
       "...                                                 ...       ...\n",
       "1792  (성남=연합뉴스) 권준우 기자 = 황영시 전 감사원장이 지난 23일 별세했다. 향년...       267\n",
       "1793  경제 침체 주요인으로과도한 군사비용 꼽으면서핵무기 보유는 '긍정적' 평가북한이 공개...       267\n",
       "1794  한일정책협의대표단, 日 외무장관 등 면담반일 여론 의식, \"고위급 교류 재개는 신중...       267\n",
       "1795    문재인 대통령은 25일 검찰의 수사권을 완전히 박탈한다는 의미의 ‘검수완박’ 법...       267\n",
       "1796    문재인 대통령은 25일 윤석열 대통령 당선인이 검찰총장 당시 조국 전 법무부 장...       267\n",
       "\n",
       "[1797 rows x 2 columns]"
      ]
     },
     "execution_count": 25,
     "metadata": {},
     "output_type": "execute_result"
    }
   ],
   "source": [
    "cats=[264,269,266,267]\n",
    "ind = 0\n",
    "for cat in cats:   \n",
    "    for i in range(30):\n",
    "        \n",
    "        url = 'https://news.naver.com/main/list.naver?mode=LS2D&sid2='+str(cat)+'&sid1=100&mid=shm&date=20220426&page='+str(i+1)\n",
    "        headers = {'User-Agent': 'Mozilla/5.0 (Windows NT 10.0; Win64; x64) AppleWebKit/537.36 (KHTML, like Gecko) Chrome/100.0.4896.127 Safari/537.36'}\n",
    "        news = requests.get(url, headers=headers)\n",
    "        soup = BeautifulSoup(news.text,'html.parser')\n",
    "        links = soup.select(' #main_content > div > ul> li > dl > dt > a')\n",
    "        newslinks=[]\n",
    "        for j, a in enumerate(links):            \n",
    "            newslink = a.get('href')\n",
    "            newslinks.append(newslink)\n",
    "            newslinks = list(set(newslinks))        \n",
    "        \n",
    "        for link in newslinks:\n",
    "            try:\n",
    "                res2 = requests.get(link,headers = headers).text\n",
    "                soup2 = BeautifulSoup(res2,'html.parser')\n",
    "                news = soup2.find('div',id = \"dic_area\").text\n",
    "                news = re.sub('\\n','',news)\n",
    "                news = re.sub('\\t','',news)\n",
    "                news_df.loc[ind] = [news,cat]\n",
    "                ind += 1\n",
    "            except Exception as e:\n",
    "                pass\n",
    "news_df"
   ]
  },
  {
   "cell_type": "code",
   "execution_count": 32,
   "id": "fc9ca3a6",
   "metadata": {},
   "outputs": [],
   "source": [
    "news_df.to_csv('news_dfp.csv',mode='w')"
   ]
  },
  {
   "cell_type": "code",
   "execution_count": 33,
   "id": "6c83068b",
   "metadata": {},
   "outputs": [
    {
     "data": {
      "text/plain": [
       "(1797, 2)"
      ]
     },
     "execution_count": 33,
     "metadata": {},
     "output_type": "execute_result"
    }
   ],
   "source": [
    "f_df1 = pd.read_csv('news_dfp.csv',index_col=0)\n",
    "f_df1.shape"
   ]
  },
  {
   "cell_type": "code",
   "execution_count": 34,
   "id": "c4e76114",
   "metadata": {},
   "outputs": [
    {
     "data": {
      "text/html": [
       "<div>\n",
       "<style scoped>\n",
       "    .dataframe tbody tr th:only-of-type {\n",
       "        vertical-align: middle;\n",
       "    }\n",
       "\n",
       "    .dataframe tbody tr th {\n",
       "        vertical-align: top;\n",
       "    }\n",
       "\n",
       "    .dataframe thead th {\n",
       "        text-align: right;\n",
       "    }\n",
       "</style>\n",
       "<table border=\"1\" class=\"dataframe\">\n",
       "  <thead>\n",
       "    <tr style=\"text-align: right;\">\n",
       "      <th></th>\n",
       "      <th>news_text</th>\n",
       "      <th>category</th>\n",
       "    </tr>\n",
       "  </thead>\n",
       "  <tbody>\n",
       "    <tr>\n",
       "      <th>0</th>\n",
       "      <td>(서울=연합뉴스) 26일 서울 용산구 합동참모본부에서 대통령 집무실 이전 ...</td>\n",
       "      <td>264</td>\n",
       "    </tr>\n",
       "    <tr>\n",
       "      <th>1</th>\n",
       "      <td>(서울=연합뉴스) 국회 국방위원회 민홍철 위원장과 더불어민주당 위원들이 26...</td>\n",
       "      <td>264</td>\n",
       "    </tr>\n",
       "    <tr>\n",
       "      <th>2</th>\n",
       "      <td>“경기지사 당선 시 직접 협상 나설 것”전날 협상장 찾아 “버스 멈추면 일상 멈춰”...</td>\n",
       "      <td>264</td>\n",
       "    </tr>\n",
       "    <tr>\n",
       "      <th>3</th>\n",
       "      <td>[서울경제] 이동기 코엑스 사장(오른쪽)과 류명현 한국도로협회 상임부회장이 26일 ...</td>\n",
       "      <td>264</td>\n",
       "    </tr>\n",
       "    <tr>\n",
       "      <th>4</th>\n",
       "      <td>(서울=연합뉴스) 국회 국방위원회 민홍철 위원장과 더불어민주당 위원들이 26...</td>\n",
       "      <td>264</td>\n",
       "    </tr>\n",
       "  </tbody>\n",
       "</table>\n",
       "</div>"
      ],
      "text/plain": [
       "                                           news_text  category\n",
       "0       (서울=연합뉴스) 26일 서울 용산구 합동참모본부에서 대통령 집무실 이전 ...       264\n",
       "1      (서울=연합뉴스) 국회 국방위원회 민홍철 위원장과 더불어민주당 위원들이 26...       264\n",
       "2  “경기지사 당선 시 직접 협상 나설 것”전날 협상장 찾아 “버스 멈추면 일상 멈춰”...       264\n",
       "3  [서울경제] 이동기 코엑스 사장(오른쪽)과 류명현 한국도로협회 상임부회장이 26일 ...       264\n",
       "4      (서울=연합뉴스) 국회 국방위원회 민홍철 위원장과 더불어민주당 위원들이 26...       264"
      ]
     },
     "execution_count": 34,
     "metadata": {},
     "output_type": "execute_result"
    }
   ],
   "source": [
    "f_df1.head()"
   ]
  },
  {
   "cell_type": "code",
   "execution_count": null,
   "id": "3ef093a3",
   "metadata": {},
   "outputs": [],
   "source": []
  },
  {
   "cell_type": "code",
   "execution_count": null,
   "id": "bde16405",
   "metadata": {},
   "outputs": [],
   "source": []
  },
  {
   "cell_type": "code",
   "execution_count": null,
   "id": "2c36b60f",
   "metadata": {},
   "outputs": [],
   "source": []
  },
  {
   "cell_type": "code",
   "execution_count": null,
   "id": "34dc7339",
   "metadata": {},
   "outputs": [],
   "source": []
  }
 ],
 "metadata": {
  "kernelspec": {
   "display_name": "Python 3 (ipykernel)",
   "language": "python",
   "name": "python3"
  },
  "language_info": {
   "codemirror_mode": {
    "name": "ipython",
    "version": 3
   },
   "file_extension": ".py",
   "mimetype": "text/x-python",
   "name": "python",
   "nbconvert_exporter": "python",
   "pygments_lexer": "ipython3",
   "version": "3.8.13"
  }
 },
 "nbformat": 4,
 "nbformat_minor": 5
}
